{
 "cells": [
  {
   "cell_type": "markdown",
   "metadata": {},
   "source": [
    "## Neural Network – My first Perceptron"
   ]
  },
  {
   "cell_type": "markdown",
   "metadata": {},
   "source": [
    "\\begin{align*}\n",
    "W(k+1) = W(k) + n (y-d)\n",
    "\\end{align*}\n",
    "\n",
    "\\begin{align*}\n",
    "b(k+1) = b(x) + n\n",
    "\\end{align*}\n",
    "\n",
    "\\begin{align*}\n",
    "o = \\sum w_i x_i + b\n",
    "\\end{align*}"
   ]
  },
  {
   "cell_type": "code",
   "execution_count": 1,
   "metadata": {},
   "outputs": [],
   "source": [
    "import numpy as np"
   ]
  },
  {
   "cell_type": "code",
   "execution_count": 2,
   "metadata": {},
   "outputs": [],
   "source": [
    "class Perceptron(object):\n",
    "    # Constructor to define internal variables\n",
    "    def __init__(self, \n",
    "                 num_inputs = 2,  # Number of inputs\n",
    "                 learning_rate = 1, # learning rate industry standard is considered to be 0.01\n",
    "                 epochs = 10):  # iterative process to learn / times it loops\n",
    "        self.W = np.zeros(num_inputs)  # Create an array of 0s, defining Weights globally\n",
    "        self.b = np.zeros(1)  # bias adds to the multiplication\n",
    "        self.epochs = epochs\n",
    "        self.learning_rate = learning_rate\n",
    "    \n",
    "    # Activation function (escalón)\n",
    "    def activation_function(self, output):\n",
    "        if output >= 0:\n",
    "            return 1\n",
    "        elif output < 0:\n",
    "            return 0\n",
    "        \n",
    "    # Estimate of our perceptron\n",
    "    def predict(self, x):\n",
    "        z = self.W.T.dot(x) + self.b  # Transpose the start variables, taking into account Weights and bias\n",
    "        return self.activation_function(z)\n",
    "    \n",
    "    # Update the Weights\n",
    "    def fit(self, \n",
    "            X, # apply the entire matrix of inputs\n",
    "            d):  # train data\n",
    "        for _ in range(self.epochs):  # iterative process to learn\n",
    "            for i in range(d.shape[0]):  # length of d\n",
    "                y = self.predict(X[i])  # the result of calling all inputs\n",
    "                e = d[i] - y  # calculate the error\n",
    "                self.W = self.W + self.learning_rate * e * X[i] # updates Weights taking into account the learning rate, error and the matrix\n",
    "                self.b = self.b + e  # updates b taking into account the error"
   ]
  },
  {
   "cell_type": "markdown",
   "metadata": {},
   "source": [
    "### Inputs"
   ]
  },
  {
   "cell_type": "code",
   "execution_count": 3,
   "metadata": {},
   "outputs": [],
   "source": [
    "# Possible entries/inputs of my perception (logic door)\n",
    "X = np.array([[0,0], [0,1], [1,0], [1,1]]) "
   ]
  },
  {
   "cell_type": "markdown",
   "metadata": {},
   "source": [
    "### Door AND"
   ]
  },
  {
   "cell_type": "code",
   "execution_count": 4,
   "metadata": {},
   "outputs": [],
   "source": [
    "# Door AND = Results we expect\n",
    "d = np.array([0, 0, 0, 1]) "
   ]
  },
  {
   "cell_type": "code",
   "execution_count": 5,
   "metadata": {},
   "outputs": [],
   "source": [
    "# Create object\n",
    "p = Perceptron()\n",
    "\n",
    "# (Inputs, Expected Results)\n",
    "p.fit(X, d) \n",
    "#print(p.W)  # new Weights"
   ]
  },
  {
   "cell_type": "code",
   "execution_count": 6,
   "metadata": {},
   "outputs": [
    {
     "name": "stdout",
     "output_type": "stream",
     "text": [
      "My perceptron AND returns 0 for the input [0 0]\n"
     ]
    }
   ],
   "source": [
    "new_sample = np.array([0, 0]) \n",
    "print(\"My perceptron AND returns\", p.predict(new_sample), \"for the input\", new_sample) "
   ]
  },
  {
   "cell_type": "code",
   "execution_count": 7,
   "metadata": {},
   "outputs": [
    {
     "name": "stdout",
     "output_type": "stream",
     "text": [
      "My perceptron AND returns 0 for the input [0 1]\n"
     ]
    }
   ],
   "source": [
    "new_sample = np.array([0, 1]) \n",
    "print(\"My perceptron AND returns\", p.predict(new_sample), \"for the input\", new_sample) "
   ]
  },
  {
   "cell_type": "code",
   "execution_count": 8,
   "metadata": {},
   "outputs": [
    {
     "name": "stdout",
     "output_type": "stream",
     "text": [
      "My perceptron AND returns 0 for the input [1 0]\n"
     ]
    }
   ],
   "source": [
    "new_sample = np.array([1, 0]) \n",
    "print(\"My perceptron AND returns\", p.predict(new_sample), \"for the input\", new_sample) "
   ]
  },
  {
   "cell_type": "code",
   "execution_count": 9,
   "metadata": {
    "scrolled": true
   },
   "outputs": [
    {
     "name": "stdout",
     "output_type": "stream",
     "text": [
      "My perceptron AND returns 1 for the input [1 1]\n"
     ]
    }
   ],
   "source": [
    "new_sample = np.array([1, 1]) \n",
    "print(\"My perceptron AND returns\", p.predict(new_sample), \"for the input\", new_sample) "
   ]
  },
  {
   "cell_type": "code",
   "execution_count": 10,
   "metadata": {},
   "outputs": [
    {
     "name": "stdout",
     "output_type": "stream",
     "text": [
      "My perceptron AND has a precision of 100.0 %\n"
     ]
    }
   ],
   "source": [
    "accuracy = 0\n",
    "\n",
    "for i in range(d.shape[0]):  # for each element in the results we expect\n",
    "    accuracy = accuracy + (p.predict(X[i]) == d[i])  # compare, returning True (1) or False (0)\n",
    "    # same as prior line\n",
    "    #if p.predict(X[i]) == d[i]:\n",
    "        #accuracy = accuracy + 1\n",
    "        \n",
    "accuracy = (accuracy / d.shape[0])  # porcentage of correct results\n",
    "print(\"My perceptron AND has a precision of\", 100 * accuracy, \"%\") "
   ]
  },
  {
   "cell_type": "markdown",
   "metadata": {},
   "source": [
    "### Door OR"
   ]
  },
  {
   "cell_type": "code",
   "execution_count": 11,
   "metadata": {},
   "outputs": [],
   "source": [
    "# Door OR = Results we expect\n",
    "d = np.array([0, 1, 1, 1]) "
   ]
  },
  {
   "cell_type": "code",
   "execution_count": 12,
   "metadata": {},
   "outputs": [],
   "source": [
    "# Create object\n",
    "p = Perceptron()\n",
    "\n",
    "p.fit(X, d) \n",
    "#print(p.W)  # new Weights"
   ]
  },
  {
   "cell_type": "code",
   "execution_count": 13,
   "metadata": {},
   "outputs": [
    {
     "name": "stdout",
     "output_type": "stream",
     "text": [
      "My perceptron OR returns 0 for the input [0 0]\n"
     ]
    }
   ],
   "source": [
    "new_sample = np.array([0, 0]) \n",
    "print(\"My perceptron OR returns\", p.predict(new_sample), \"for the input\", new_sample) "
   ]
  },
  {
   "cell_type": "code",
   "execution_count": 14,
   "metadata": {},
   "outputs": [
    {
     "name": "stdout",
     "output_type": "stream",
     "text": [
      "My perceptron OR returns 1 for the input [0 1]\n"
     ]
    }
   ],
   "source": [
    "new_sample = np.array([0, 1]) \n",
    "print(\"My perceptron OR returns\", p.predict(new_sample), \"for the input\", new_sample) "
   ]
  },
  {
   "cell_type": "code",
   "execution_count": 15,
   "metadata": {},
   "outputs": [
    {
     "name": "stdout",
     "output_type": "stream",
     "text": [
      "My perceptron OR has a precision of 100.0 %\n"
     ]
    }
   ],
   "source": [
    "accuracy = 0\n",
    "\n",
    "for i in range(d.shape[0]):  # for each element in the results we expect\n",
    "    accuracy = accuracy + (p.predict(X[i]) == d[i])  # compare, returning True (1) or False (0)\n",
    "    # same as prior line\n",
    "    #if p.predict(X[i]) == d[i]:\n",
    "        #accuracy = accuracy + 1\n",
    "        \n",
    "accuracy = (accuracy / d.shape[0])  # porcentage of correct results\n",
    "print(\"My perceptron OR has a precision of\", 100 * accuracy, \"%\") "
   ]
  },
  {
   "cell_type": "markdown",
   "metadata": {},
   "source": [
    "### Door XOR"
   ]
  },
  {
   "cell_type": "code",
   "execution_count": 16,
   "metadata": {},
   "outputs": [],
   "source": [
    "# Door XOR = Results we expect\n",
    "d = np.array([0, 1, 1, 0]) "
   ]
  },
  {
   "cell_type": "code",
   "execution_count": 17,
   "metadata": {},
   "outputs": [],
   "source": [
    "# Create object\n",
    "p = Perceptron()\n",
    "\n",
    "p.fit(X, d) \n",
    "#print(p.W)  # new Weights"
   ]
  },
  {
   "cell_type": "code",
   "execution_count": 18,
   "metadata": {},
   "outputs": [
    {
     "name": "stdout",
     "output_type": "stream",
     "text": [
      "My perceptron XOR returns 1 for the input [0 0]\n"
     ]
    }
   ],
   "source": [
    "new_sample = np.array([0, 0]) \n",
    "print(\"My perceptron XOR returns\", p.predict(new_sample), \"for the input\", new_sample) "
   ]
  },
  {
   "cell_type": "code",
   "execution_count": 19,
   "metadata": {},
   "outputs": [
    {
     "name": "stdout",
     "output_type": "stream",
     "text": [
      "My perceptron XOR has a precision of 50.0 %\n"
     ]
    }
   ],
   "source": [
    "accuracy = 0\n",
    "\n",
    "for i in range(d.shape[0]):  # for each element in the results we expect\n",
    "    accuracy = accuracy + (p.predict(X[i]) == d[i])  # compare, returning True (1) or False (0)\n",
    "    # same as prior line\n",
    "    #if p.predict(X[i]) == d[i]:\n",
    "        #accuracy = accuracy + 1\n",
    "        \n",
    "accuracy = (accuracy / d.shape[0])  # porcentage of correct results\n",
    "print(\"My perceptron XOR has a precision of\", 100 * accuracy, \"%\") "
   ]
  },
  {
   "cell_type": "code",
   "execution_count": null,
   "metadata": {},
   "outputs": [],
   "source": []
  }
 ],
 "metadata": {
  "kernelspec": {
   "display_name": "Python 3",
   "language": "python",
   "name": "python3"
  },
  "language_info": {
   "codemirror_mode": {
    "name": "ipython",
    "version": 3
   },
   "file_extension": ".py",
   "mimetype": "text/x-python",
   "name": "python",
   "nbconvert_exporter": "python",
   "pygments_lexer": "ipython3",
   "version": "3.7.3"
  }
 },
 "nbformat": 4,
 "nbformat_minor": 4
}
