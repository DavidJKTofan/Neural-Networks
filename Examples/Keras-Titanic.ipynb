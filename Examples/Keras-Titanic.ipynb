{
 "cells": [
  {
   "cell_type": "markdown",
   "metadata": {},
   "source": [
    "# Titanic example\n",
    "What is the probability of surviving the Titanic?"
   ]
  },
  {
   "cell_type": "code",
   "execution_count": 1,
   "metadata": {},
   "outputs": [],
   "source": [
    "import pandas as pd\n",
    "import numpy as np"
   ]
  },
  {
   "cell_type": "markdown",
   "metadata": {},
   "source": [
    "## Load data"
   ]
  },
  {
   "cell_type": "code",
   "execution_count": 2,
   "metadata": {},
   "outputs": [],
   "source": [
    "training_data = pd.read_csv(\"/Users/davidtofan/LearningPython/Business Analytics – UEM/Artificial Intelligence/Keras/Titanic-Data/train.csv\")\n",
    "\n",
    "test_data = pd.read_csv(\"/Users/davidtofan/LearningPython/Business Analytics – UEM/Artificial Intelligence/Keras/Titanic-Data/test.csv\")\n",
    "\n",
    "target_data = pd.read_csv(\"/Users/davidtofan/LearningPython/Business Analytics – UEM/Artificial Intelligence/Keras/Titanic-Data/test_result.csv\")"
   ]
  },
  {
   "cell_type": "code",
   "execution_count": 3,
   "metadata": {
    "scrolled": true
   },
   "outputs": [
    {
     "data": {
      "text/html": [
       "<div>\n",
       "<style scoped>\n",
       "    .dataframe tbody tr th:only-of-type {\n",
       "        vertical-align: middle;\n",
       "    }\n",
       "\n",
       "    .dataframe tbody tr th {\n",
       "        vertical-align: top;\n",
       "    }\n",
       "\n",
       "    .dataframe thead th {\n",
       "        text-align: right;\n",
       "    }\n",
       "</style>\n",
       "<table border=\"1\" class=\"dataframe\">\n",
       "  <thead>\n",
       "    <tr style=\"text-align: right;\">\n",
       "      <th></th>\n",
       "      <th>PassengerId</th>\n",
       "      <th>Survived</th>\n",
       "      <th>Pclass</th>\n",
       "      <th>Name</th>\n",
       "      <th>Sex</th>\n",
       "      <th>Age</th>\n",
       "      <th>SibSp</th>\n",
       "      <th>Parch</th>\n",
       "      <th>Ticket</th>\n",
       "      <th>Fare</th>\n",
       "      <th>Cabin</th>\n",
       "      <th>Embarked</th>\n",
       "    </tr>\n",
       "  </thead>\n",
       "  <tbody>\n",
       "    <tr>\n",
       "      <th>0</th>\n",
       "      <td>1</td>\n",
       "      <td>0</td>\n",
       "      <td>3</td>\n",
       "      <td>Braund, Mr. Owen Harris</td>\n",
       "      <td>male</td>\n",
       "      <td>22.0</td>\n",
       "      <td>1</td>\n",
       "      <td>0</td>\n",
       "      <td>A/5 21171</td>\n",
       "      <td>7.2500</td>\n",
       "      <td>NaN</td>\n",
       "      <td>S</td>\n",
       "    </tr>\n",
       "    <tr>\n",
       "      <th>1</th>\n",
       "      <td>2</td>\n",
       "      <td>1</td>\n",
       "      <td>1</td>\n",
       "      <td>Cumings, Mrs. John Bradley (Florence Briggs Th...</td>\n",
       "      <td>female</td>\n",
       "      <td>38.0</td>\n",
       "      <td>1</td>\n",
       "      <td>0</td>\n",
       "      <td>PC 17599</td>\n",
       "      <td>71.2833</td>\n",
       "      <td>C85</td>\n",
       "      <td>C</td>\n",
       "    </tr>\n",
       "    <tr>\n",
       "      <th>2</th>\n",
       "      <td>3</td>\n",
       "      <td>1</td>\n",
       "      <td>3</td>\n",
       "      <td>Heikkinen, Miss. Laina</td>\n",
       "      <td>female</td>\n",
       "      <td>26.0</td>\n",
       "      <td>0</td>\n",
       "      <td>0</td>\n",
       "      <td>STON/O2. 3101282</td>\n",
       "      <td>7.9250</td>\n",
       "      <td>NaN</td>\n",
       "      <td>S</td>\n",
       "    </tr>\n",
       "    <tr>\n",
       "      <th>3</th>\n",
       "      <td>4</td>\n",
       "      <td>1</td>\n",
       "      <td>1</td>\n",
       "      <td>Futrelle, Mrs. Jacques Heath (Lily May Peel)</td>\n",
       "      <td>female</td>\n",
       "      <td>35.0</td>\n",
       "      <td>1</td>\n",
       "      <td>0</td>\n",
       "      <td>113803</td>\n",
       "      <td>53.1000</td>\n",
       "      <td>C123</td>\n",
       "      <td>S</td>\n",
       "    </tr>\n",
       "    <tr>\n",
       "      <th>4</th>\n",
       "      <td>5</td>\n",
       "      <td>0</td>\n",
       "      <td>3</td>\n",
       "      <td>Allen, Mr. William Henry</td>\n",
       "      <td>male</td>\n",
       "      <td>35.0</td>\n",
       "      <td>0</td>\n",
       "      <td>0</td>\n",
       "      <td>373450</td>\n",
       "      <td>8.0500</td>\n",
       "      <td>NaN</td>\n",
       "      <td>S</td>\n",
       "    </tr>\n",
       "  </tbody>\n",
       "</table>\n",
       "</div>"
      ],
      "text/plain": [
       "   PassengerId  Survived  Pclass  \\\n",
       "0            1         0       3   \n",
       "1            2         1       1   \n",
       "2            3         1       3   \n",
       "3            4         1       1   \n",
       "4            5         0       3   \n",
       "\n",
       "                                                Name     Sex   Age  SibSp  \\\n",
       "0                            Braund, Mr. Owen Harris    male  22.0      1   \n",
       "1  Cumings, Mrs. John Bradley (Florence Briggs Th...  female  38.0      1   \n",
       "2                             Heikkinen, Miss. Laina  female  26.0      0   \n",
       "3       Futrelle, Mrs. Jacques Heath (Lily May Peel)  female  35.0      1   \n",
       "4                           Allen, Mr. William Henry    male  35.0      0   \n",
       "\n",
       "   Parch            Ticket     Fare Cabin Embarked  \n",
       "0      0         A/5 21171   7.2500   NaN        S  \n",
       "1      0          PC 17599  71.2833   C85        C  \n",
       "2      0  STON/O2. 3101282   7.9250   NaN        S  \n",
       "3      0            113803  53.1000  C123        S  \n",
       "4      0            373450   8.0500   NaN        S  "
      ]
     },
     "execution_count": 3,
     "metadata": {},
     "output_type": "execute_result"
    }
   ],
   "source": [
    "training_data.head()"
   ]
  },
  {
   "cell_type": "code",
   "execution_count": 4,
   "metadata": {},
   "outputs": [
    {
     "data": {
      "text/plain": [
       "PassengerId      int64\n",
       "Survived         int64\n",
       "Pclass           int64\n",
       "Name            object\n",
       "Sex             object\n",
       "Age            float64\n",
       "SibSp            int64\n",
       "Parch            int64\n",
       "Ticket          object\n",
       "Fare           float64\n",
       "Cabin           object\n",
       "Embarked        object\n",
       "dtype: object"
      ]
     },
     "execution_count": 4,
     "metadata": {},
     "output_type": "execute_result"
    }
   ],
   "source": [
    "training_data.dtypes"
   ]
  },
  {
   "cell_type": "markdown",
   "metadata": {},
   "source": [
    "## Clean data"
   ]
  },
  {
   "cell_type": "code",
   "execution_count": 5,
   "metadata": {},
   "outputs": [
    {
     "data": {
      "text/plain": [
       "['PassengerId',\n",
       " 'Survived',\n",
       " 'Pclass',\n",
       " 'Name',\n",
       " 'Sex',\n",
       " 'Age',\n",
       " 'SibSp',\n",
       " 'Parch',\n",
       " 'Ticket',\n",
       " 'Fare',\n",
       " 'Cabin',\n",
       " 'Embarked']"
      ]
     },
     "execution_count": 5,
     "metadata": {},
     "output_type": "execute_result"
    }
   ],
   "source": [
    "list(training_data.columns)"
   ]
  },
  {
   "cell_type": "code",
   "execution_count": 6,
   "metadata": {},
   "outputs": [],
   "source": [
    "# Rename columns\n",
    "training_data = training_data.rename(columns = {\"Pclass\": \"PassageClass\"})\n",
    "\n",
    "test_data = test_data.rename(columns = {\"Pclass\": \"PassageClass\"})"
   ]
  },
  {
   "cell_type": "code",
   "execution_count": 7,
   "metadata": {},
   "outputs": [],
   "source": [
    "training_data = training_data.rename(columns = {\"Parch\": \"ParentsChildren\"})\n",
    "\n",
    "test_data = test_data.rename(columns = {\"Parch\": \"ParentsChildren\"})"
   ]
  },
  {
   "cell_type": "code",
   "execution_count": 8,
   "metadata": {},
   "outputs": [],
   "source": [
    "training_data = training_data.rename(columns = {\"SibSp\": \"SiblingsSpouses\"})\n",
    "\n",
    "test_data = test_data.rename(columns = {\"SibSp\": \"SiblingsSpouses\"})"
   ]
  },
  {
   "cell_type": "code",
   "execution_count": 9,
   "metadata": {},
   "outputs": [
    {
     "data": {
      "text/html": [
       "<div>\n",
       "<style scoped>\n",
       "    .dataframe tbody tr th:only-of-type {\n",
       "        vertical-align: middle;\n",
       "    }\n",
       "\n",
       "    .dataframe tbody tr th {\n",
       "        vertical-align: top;\n",
       "    }\n",
       "\n",
       "    .dataframe thead th {\n",
       "        text-align: right;\n",
       "    }\n",
       "</style>\n",
       "<table border=\"1\" class=\"dataframe\">\n",
       "  <thead>\n",
       "    <tr style=\"text-align: right;\">\n",
       "      <th></th>\n",
       "      <th>PassengerId</th>\n",
       "      <th>Survived</th>\n",
       "      <th>PassageClass</th>\n",
       "      <th>Name</th>\n",
       "      <th>Sex</th>\n",
       "      <th>Age</th>\n",
       "      <th>SiblingsSpouses</th>\n",
       "      <th>ParentsChildren</th>\n",
       "      <th>Ticket</th>\n",
       "      <th>Fare</th>\n",
       "      <th>Cabin</th>\n",
       "      <th>Embarked</th>\n",
       "    </tr>\n",
       "  </thead>\n",
       "  <tbody>\n",
       "    <tr>\n",
       "      <th>0</th>\n",
       "      <td>1</td>\n",
       "      <td>0</td>\n",
       "      <td>3</td>\n",
       "      <td>Braund, Mr. Owen Harris</td>\n",
       "      <td>male</td>\n",
       "      <td>22.0</td>\n",
       "      <td>1</td>\n",
       "      <td>0</td>\n",
       "      <td>A/5 21171</td>\n",
       "      <td>7.2500</td>\n",
       "      <td>NaN</td>\n",
       "      <td>S</td>\n",
       "    </tr>\n",
       "    <tr>\n",
       "      <th>1</th>\n",
       "      <td>2</td>\n",
       "      <td>1</td>\n",
       "      <td>1</td>\n",
       "      <td>Cumings, Mrs. John Bradley (Florence Briggs Th...</td>\n",
       "      <td>female</td>\n",
       "      <td>38.0</td>\n",
       "      <td>1</td>\n",
       "      <td>0</td>\n",
       "      <td>PC 17599</td>\n",
       "      <td>71.2833</td>\n",
       "      <td>C85</td>\n",
       "      <td>C</td>\n",
       "    </tr>\n",
       "    <tr>\n",
       "      <th>2</th>\n",
       "      <td>3</td>\n",
       "      <td>1</td>\n",
       "      <td>3</td>\n",
       "      <td>Heikkinen, Miss. Laina</td>\n",
       "      <td>female</td>\n",
       "      <td>26.0</td>\n",
       "      <td>0</td>\n",
       "      <td>0</td>\n",
       "      <td>STON/O2. 3101282</td>\n",
       "      <td>7.9250</td>\n",
       "      <td>NaN</td>\n",
       "      <td>S</td>\n",
       "    </tr>\n",
       "    <tr>\n",
       "      <th>3</th>\n",
       "      <td>4</td>\n",
       "      <td>1</td>\n",
       "      <td>1</td>\n",
       "      <td>Futrelle, Mrs. Jacques Heath (Lily May Peel)</td>\n",
       "      <td>female</td>\n",
       "      <td>35.0</td>\n",
       "      <td>1</td>\n",
       "      <td>0</td>\n",
       "      <td>113803</td>\n",
       "      <td>53.1000</td>\n",
       "      <td>C123</td>\n",
       "      <td>S</td>\n",
       "    </tr>\n",
       "    <tr>\n",
       "      <th>4</th>\n",
       "      <td>5</td>\n",
       "      <td>0</td>\n",
       "      <td>3</td>\n",
       "      <td>Allen, Mr. William Henry</td>\n",
       "      <td>male</td>\n",
       "      <td>35.0</td>\n",
       "      <td>0</td>\n",
       "      <td>0</td>\n",
       "      <td>373450</td>\n",
       "      <td>8.0500</td>\n",
       "      <td>NaN</td>\n",
       "      <td>S</td>\n",
       "    </tr>\n",
       "  </tbody>\n",
       "</table>\n",
       "</div>"
      ],
      "text/plain": [
       "   PassengerId  Survived  PassageClass  \\\n",
       "0            1         0             3   \n",
       "1            2         1             1   \n",
       "2            3         1             3   \n",
       "3            4         1             1   \n",
       "4            5         0             3   \n",
       "\n",
       "                                                Name     Sex   Age  \\\n",
       "0                            Braund, Mr. Owen Harris    male  22.0   \n",
       "1  Cumings, Mrs. John Bradley (Florence Briggs Th...  female  38.0   \n",
       "2                             Heikkinen, Miss. Laina  female  26.0   \n",
       "3       Futrelle, Mrs. Jacques Heath (Lily May Peel)  female  35.0   \n",
       "4                           Allen, Mr. William Henry    male  35.0   \n",
       "\n",
       "   SiblingsSpouses  ParentsChildren            Ticket     Fare Cabin Embarked  \n",
       "0                1                0         A/5 21171   7.2500   NaN        S  \n",
       "1                1                0          PC 17599  71.2833   C85        C  \n",
       "2                0                0  STON/O2. 3101282   7.9250   NaN        S  \n",
       "3                1                0            113803  53.1000  C123        S  \n",
       "4                0                0            373450   8.0500   NaN        S  "
      ]
     },
     "execution_count": 9,
     "metadata": {},
     "output_type": "execute_result"
    }
   ],
   "source": [
    "training_data.head()"
   ]
  },
  {
   "cell_type": "code",
   "execution_count": 10,
   "metadata": {},
   "outputs": [],
   "source": [
    "# Drop unnecessary columns\n",
    "training_data = training_data.drop([\"Name\", \"Ticket\", \"Fare\", \"Cabin\", \"Embarked\", \"Age\"], axis = 1)\n",
    "\n",
    "test_data = test_data.drop([\"Name\", \"Ticket\", \"Fare\", \"Cabin\", \"Embarked\", \"Age\"], axis = 1)"
   ]
  },
  {
   "cell_type": "code",
   "execution_count": 11,
   "metadata": {},
   "outputs": [
    {
     "data": {
      "text/html": [
       "<div>\n",
       "<style scoped>\n",
       "    .dataframe tbody tr th:only-of-type {\n",
       "        vertical-align: middle;\n",
       "    }\n",
       "\n",
       "    .dataframe tbody tr th {\n",
       "        vertical-align: top;\n",
       "    }\n",
       "\n",
       "    .dataframe thead th {\n",
       "        text-align: right;\n",
       "    }\n",
       "</style>\n",
       "<table border=\"1\" class=\"dataframe\">\n",
       "  <thead>\n",
       "    <tr style=\"text-align: right;\">\n",
       "      <th></th>\n",
       "      <th>PassengerId</th>\n",
       "      <th>Survived</th>\n",
       "      <th>PassageClass</th>\n",
       "      <th>Sex</th>\n",
       "      <th>SiblingsSpouses</th>\n",
       "      <th>ParentsChildren</th>\n",
       "    </tr>\n",
       "  </thead>\n",
       "  <tbody>\n",
       "    <tr>\n",
       "      <th>0</th>\n",
       "      <td>1</td>\n",
       "      <td>0</td>\n",
       "      <td>3</td>\n",
       "      <td>male</td>\n",
       "      <td>1</td>\n",
       "      <td>0</td>\n",
       "    </tr>\n",
       "    <tr>\n",
       "      <th>1</th>\n",
       "      <td>2</td>\n",
       "      <td>1</td>\n",
       "      <td>1</td>\n",
       "      <td>female</td>\n",
       "      <td>1</td>\n",
       "      <td>0</td>\n",
       "    </tr>\n",
       "    <tr>\n",
       "      <th>2</th>\n",
       "      <td>3</td>\n",
       "      <td>1</td>\n",
       "      <td>3</td>\n",
       "      <td>female</td>\n",
       "      <td>0</td>\n",
       "      <td>0</td>\n",
       "    </tr>\n",
       "    <tr>\n",
       "      <th>3</th>\n",
       "      <td>4</td>\n",
       "      <td>1</td>\n",
       "      <td>1</td>\n",
       "      <td>female</td>\n",
       "      <td>1</td>\n",
       "      <td>0</td>\n",
       "    </tr>\n",
       "    <tr>\n",
       "      <th>4</th>\n",
       "      <td>5</td>\n",
       "      <td>0</td>\n",
       "      <td>3</td>\n",
       "      <td>male</td>\n",
       "      <td>0</td>\n",
       "      <td>0</td>\n",
       "    </tr>\n",
       "  </tbody>\n",
       "</table>\n",
       "</div>"
      ],
      "text/plain": [
       "   PassengerId  Survived  PassageClass     Sex  SiblingsSpouses  \\\n",
       "0            1         0             3    male                1   \n",
       "1            2         1             1  female                1   \n",
       "2            3         1             3  female                0   \n",
       "3            4         1             1  female                1   \n",
       "4            5         0             3    male                0   \n",
       "\n",
       "   ParentsChildren  \n",
       "0                0  \n",
       "1                0  \n",
       "2                0  \n",
       "3                0  \n",
       "4                0  "
      ]
     },
     "execution_count": 11,
     "metadata": {},
     "output_type": "execute_result"
    }
   ],
   "source": [
    "training_data.head()"
   ]
  },
  {
   "cell_type": "markdown",
   "metadata": {},
   "source": [
    "## Codify data"
   ]
  },
  {
   "cell_type": "code",
   "execution_count": 12,
   "metadata": {},
   "outputs": [],
   "source": [
    "from sklearn.preprocessing import LabelEncoder"
   ]
  },
  {
   "cell_type": "code",
   "execution_count": 13,
   "metadata": {
    "scrolled": true
   },
   "outputs": [
    {
     "data": {
      "text/plain": [
       "0        male\n",
       "1      female\n",
       "2      female\n",
       "3      female\n",
       "4        male\n",
       "        ...  \n",
       "886      male\n",
       "887    female\n",
       "888    female\n",
       "889      male\n",
       "890      male\n",
       "Name: Sex, Length: 891, dtype: object"
      ]
     },
     "execution_count": 13,
     "metadata": {},
     "output_type": "execute_result"
    }
   ],
   "source": [
    "training_data.iloc[:,3]"
   ]
  },
  {
   "cell_type": "code",
   "execution_count": 14,
   "metadata": {
    "scrolled": false
   },
   "outputs": [
    {
     "data": {
      "text/plain": [
       "0        male\n",
       "1      female\n",
       "2        male\n",
       "3        male\n",
       "4      female\n",
       "        ...  \n",
       "413      male\n",
       "414    female\n",
       "415      male\n",
       "416      male\n",
       "417      male\n",
       "Name: Sex, Length: 418, dtype: object"
      ]
     },
     "execution_count": 14,
     "metadata": {},
     "output_type": "execute_result"
    }
   ],
   "source": [
    "test_data.iloc[:,2]"
   ]
  },
  {
   "cell_type": "code",
   "execution_count": 15,
   "metadata": {},
   "outputs": [],
   "source": [
    "label_encoder_gender = LabelEncoder()\n",
    "\n",
    "# Male = 1\n",
    "# Female = 0\n",
    "\n",
    "# all rows, fourth column\n",
    "training_data.iloc[:,3] = label_encoder_gender.fit_transform(training_data.iloc[:,3])  # Converts Strings to numbers\n",
    "\n",
    "test_data.iloc[:,2] = label_encoder_gender.fit_transform(test_data.iloc[:,2])  # Converts Strings to numbers"
   ]
  },
  {
   "cell_type": "code",
   "execution_count": 16,
   "metadata": {
    "scrolled": false
   },
   "outputs": [
    {
     "data": {
      "text/plain": [
       "0      1\n",
       "1      0\n",
       "2      0\n",
       "3      0\n",
       "4      1\n",
       "      ..\n",
       "886    1\n",
       "887    0\n",
       "888    0\n",
       "889    1\n",
       "890    1\n",
       "Name: Sex, Length: 891, dtype: int64"
      ]
     },
     "execution_count": 16,
     "metadata": {},
     "output_type": "execute_result"
    }
   ],
   "source": [
    "training_data.iloc[:,3]"
   ]
  },
  {
   "cell_type": "code",
   "execution_count": 17,
   "metadata": {},
   "outputs": [
    {
     "data": {
      "text/plain": [
       "0      1\n",
       "1      0\n",
       "2      1\n",
       "3      1\n",
       "4      0\n",
       "      ..\n",
       "413    1\n",
       "414    0\n",
       "415    1\n",
       "416    1\n",
       "417    1\n",
       "Name: Sex, Length: 418, dtype: int64"
      ]
     },
     "execution_count": 17,
     "metadata": {},
     "output_type": "execute_result"
    }
   ],
   "source": [
    "test_data.iloc[:,2]"
   ]
  },
  {
   "cell_type": "code",
   "execution_count": 18,
   "metadata": {},
   "outputs": [
    {
     "data": {
      "text/html": [
       "<div>\n",
       "<style scoped>\n",
       "    .dataframe tbody tr th:only-of-type {\n",
       "        vertical-align: middle;\n",
       "    }\n",
       "\n",
       "    .dataframe tbody tr th {\n",
       "        vertical-align: top;\n",
       "    }\n",
       "\n",
       "    .dataframe thead th {\n",
       "        text-align: right;\n",
       "    }\n",
       "</style>\n",
       "<table border=\"1\" class=\"dataframe\">\n",
       "  <thead>\n",
       "    <tr style=\"text-align: right;\">\n",
       "      <th></th>\n",
       "      <th>PassengerId</th>\n",
       "      <th>Survived</th>\n",
       "      <th>PassageClass</th>\n",
       "      <th>Sex</th>\n",
       "      <th>SiblingsSpouses</th>\n",
       "      <th>ParentsChildren</th>\n",
       "    </tr>\n",
       "  </thead>\n",
       "  <tbody>\n",
       "    <tr>\n",
       "      <th>0</th>\n",
       "      <td>1</td>\n",
       "      <td>0</td>\n",
       "      <td>3</td>\n",
       "      <td>1</td>\n",
       "      <td>1</td>\n",
       "      <td>0</td>\n",
       "    </tr>\n",
       "    <tr>\n",
       "      <th>1</th>\n",
       "      <td>2</td>\n",
       "      <td>1</td>\n",
       "      <td>1</td>\n",
       "      <td>0</td>\n",
       "      <td>1</td>\n",
       "      <td>0</td>\n",
       "    </tr>\n",
       "    <tr>\n",
       "      <th>2</th>\n",
       "      <td>3</td>\n",
       "      <td>1</td>\n",
       "      <td>3</td>\n",
       "      <td>0</td>\n",
       "      <td>0</td>\n",
       "      <td>0</td>\n",
       "    </tr>\n",
       "    <tr>\n",
       "      <th>3</th>\n",
       "      <td>4</td>\n",
       "      <td>1</td>\n",
       "      <td>1</td>\n",
       "      <td>0</td>\n",
       "      <td>1</td>\n",
       "      <td>0</td>\n",
       "    </tr>\n",
       "    <tr>\n",
       "      <th>4</th>\n",
       "      <td>5</td>\n",
       "      <td>0</td>\n",
       "      <td>3</td>\n",
       "      <td>1</td>\n",
       "      <td>0</td>\n",
       "      <td>0</td>\n",
       "    </tr>\n",
       "  </tbody>\n",
       "</table>\n",
       "</div>"
      ],
      "text/plain": [
       "   PassengerId  Survived  PassageClass  Sex  SiblingsSpouses  ParentsChildren\n",
       "0            1         0             3    1                1                0\n",
       "1            2         1             1    0                1                0\n",
       "2            3         1             3    0                0                0\n",
       "3            4         1             1    0                1                0\n",
       "4            5         0             3    1                0                0"
      ]
     },
     "execution_count": 18,
     "metadata": {},
     "output_type": "execute_result"
    }
   ],
   "source": [
    "# Review if it worked\n",
    "training_data.head()"
   ]
  },
  {
   "cell_type": "code",
   "execution_count": 19,
   "metadata": {
    "scrolled": true
   },
   "outputs": [
    {
     "data": {
      "text/html": [
       "<div>\n",
       "<style scoped>\n",
       "    .dataframe tbody tr th:only-of-type {\n",
       "        vertical-align: middle;\n",
       "    }\n",
       "\n",
       "    .dataframe tbody tr th {\n",
       "        vertical-align: top;\n",
       "    }\n",
       "\n",
       "    .dataframe thead th {\n",
       "        text-align: right;\n",
       "    }\n",
       "</style>\n",
       "<table border=\"1\" class=\"dataframe\">\n",
       "  <thead>\n",
       "    <tr style=\"text-align: right;\">\n",
       "      <th></th>\n",
       "      <th>PassengerId</th>\n",
       "      <th>PassageClass</th>\n",
       "      <th>Sex</th>\n",
       "      <th>SiblingsSpouses</th>\n",
       "      <th>ParentsChildren</th>\n",
       "    </tr>\n",
       "  </thead>\n",
       "  <tbody>\n",
       "    <tr>\n",
       "      <th>0</th>\n",
       "      <td>892</td>\n",
       "      <td>3</td>\n",
       "      <td>1</td>\n",
       "      <td>0</td>\n",
       "      <td>0</td>\n",
       "    </tr>\n",
       "    <tr>\n",
       "      <th>1</th>\n",
       "      <td>893</td>\n",
       "      <td>3</td>\n",
       "      <td>0</td>\n",
       "      <td>1</td>\n",
       "      <td>0</td>\n",
       "    </tr>\n",
       "    <tr>\n",
       "      <th>2</th>\n",
       "      <td>894</td>\n",
       "      <td>2</td>\n",
       "      <td>1</td>\n",
       "      <td>0</td>\n",
       "      <td>0</td>\n",
       "    </tr>\n",
       "    <tr>\n",
       "      <th>3</th>\n",
       "      <td>895</td>\n",
       "      <td>3</td>\n",
       "      <td>1</td>\n",
       "      <td>0</td>\n",
       "      <td>0</td>\n",
       "    </tr>\n",
       "    <tr>\n",
       "      <th>4</th>\n",
       "      <td>896</td>\n",
       "      <td>3</td>\n",
       "      <td>0</td>\n",
       "      <td>1</td>\n",
       "      <td>1</td>\n",
       "    </tr>\n",
       "  </tbody>\n",
       "</table>\n",
       "</div>"
      ],
      "text/plain": [
       "   PassengerId  PassageClass  Sex  SiblingsSpouses  ParentsChildren\n",
       "0          892             3    1                0                0\n",
       "1          893             3    0                1                0\n",
       "2          894             2    1                0                0\n",
       "3          895             3    1                0                0\n",
       "4          896             3    0                1                1"
      ]
     },
     "execution_count": 19,
     "metadata": {},
     "output_type": "execute_result"
    }
   ],
   "source": [
    "# Review if it worked\n",
    "test_data.head()"
   ]
  },
  {
   "cell_type": "markdown",
   "metadata": {},
   "source": [
    "## Prepare data for the model"
   ]
  },
  {
   "cell_type": "code",
   "execution_count": 20,
   "metadata": {},
   "outputs": [],
   "source": [
    "# Training data // Inputs\n",
    "X = training_data.iloc[:, [2,3,4,5]]  # all rows, those columns\n",
    "# Training data should NOT include the Target data\n",
    "\n",
    "# Target data // Outputs\n",
    "d = training_data.iloc[:, [1]]  # all rows, second column"
   ]
  },
  {
   "cell_type": "code",
   "execution_count": 21,
   "metadata": {},
   "outputs": [],
   "source": [
    "from sklearn.preprocessing import StandardScaler"
   ]
  },
  {
   "cell_type": "code",
   "execution_count": 22,
   "metadata": {},
   "outputs": [],
   "source": [
    "sc = StandardScaler()\n",
    "\n",
    "# Transforms the data (normalizes)\n",
    "X = sc.fit_transform(X)  # Training data\n",
    "#d = sc.fit_transform(d)  # Do NOT transform, because it already represents 0 to 1"
   ]
  },
  {
   "cell_type": "markdown",
   "metadata": {},
   "source": [
    "## Build the model"
   ]
  },
  {
   "cell_type": "code",
   "execution_count": 23,
   "metadata": {},
   "outputs": [
    {
     "name": "stderr",
     "output_type": "stream",
     "text": [
      "Using TensorFlow backend.\n"
     ]
    }
   ],
   "source": [
    "from keras.models import Sequential\n",
    "from keras.layers import Dense"
   ]
  },
  {
   "cell_type": "code",
   "execution_count": 24,
   "metadata": {},
   "outputs": [],
   "source": [
    "# Create our model\n",
    "model = Sequential()  # built layers on top of it\n",
    "\n",
    "# Number of inputs\n",
    "inputs = len(X[0])\n",
    "\n",
    "# INPUT LAYER\n",
    "# Connects with 3 neurons/perceptrons, has 5 inputs, activation function\n",
    "model.add(Dense(3, \n",
    "                input_dim = inputs, \n",
    "                activation = \"relu\", \n",
    "                kernel_initializer = \"uniform\"))\n",
    "# HIDDEN LAYER\n",
    "model.add(Dense(2, \n",
    "                activation = \"relu\", \n",
    "                kernel_initializer = \"uniform\"))\n",
    "\n",
    "# OUTPUT LAYER\n",
    "model.add(Dense(1, \n",
    "                activation = \"sigmoid\",\n",
    "               kernel_initializer = \"uniform\"))"
   ]
  },
  {
   "cell_type": "code",
   "execution_count": 25,
   "metadata": {
    "scrolled": true
   },
   "outputs": [
    {
     "name": "stdout",
     "output_type": "stream",
     "text": [
      "Model: \"sequential_1\"\n",
      "_________________________________________________________________\n",
      "Layer (type)                 Output Shape              Param #   \n",
      "=================================================================\n",
      "dense_1 (Dense)              (None, 3)                 15        \n",
      "_________________________________________________________________\n",
      "dense_2 (Dense)              (None, 2)                 8         \n",
      "_________________________________________________________________\n",
      "dense_3 (Dense)              (None, 1)                 3         \n",
      "=================================================================\n",
      "Total params: 26\n",
      "Trainable params: 26\n",
      "Non-trainable params: 0\n",
      "_________________________________________________________________\n"
     ]
    }
   ],
   "source": [
    "# Number of parameters\n",
    "model.summary()"
   ]
  },
  {
   "cell_type": "markdown",
   "metadata": {},
   "source": [
    "### Compile the model"
   ]
  },
  {
   "cell_type": "code",
   "execution_count": 26,
   "metadata": {},
   "outputs": [],
   "source": [
    "from keras.optimizers import Adam\n",
    "\n",
    "# Compile the model\n",
    "model.compile(loss = \"binary_crossentropy\",  # For this case because the data is between 0 and 1\n",
    "              optimizer = Adam(lr = 0.01),  # Learning rate\n",
    "              metrics = [\"accuracy\"])  # "
   ]
  },
  {
   "cell_type": "markdown",
   "metadata": {},
   "source": [
    "### Train the model"
   ]
  },
  {
   "cell_type": "code",
   "execution_count": 27,
   "metadata": {},
   "outputs": [
    {
     "name": "stdout",
     "output_type": "stream",
     "text": [
      "Epoch 1/100\n",
      "891/891 [==============================] - 0s 470us/step - loss: 0.6713 - accuracy: 0.6162\n",
      "Epoch 2/100\n",
      "891/891 [==============================] - 0s 146us/step - loss: 0.5932 - accuracy: 0.6162\n",
      "Epoch 3/100\n",
      "891/891 [==============================] - 0s 102us/step - loss: 0.5524 - accuracy: 0.6846\n",
      "Epoch 4/100\n",
      "891/891 [==============================] - 0s 115us/step - loss: 0.5410 - accuracy: 0.7666\n",
      "Epoch 5/100\n",
      "891/891 [==============================] - 0s 72us/step - loss: 0.5262 - accuracy: 0.7767\n",
      "Epoch 6/100\n",
      "891/891 [==============================] - 0s 52us/step - loss: 0.5141 - accuracy: 0.7823\n",
      "Epoch 7/100\n",
      "891/891 [==============================] - 0s 59us/step - loss: 0.5096 - accuracy: 0.7890\n",
      "Epoch 8/100\n",
      "891/891 [==============================] - 0s 66us/step - loss: 0.4976 - accuracy: 0.7969\n",
      "Epoch 9/100\n",
      "891/891 [==============================] - 0s 56us/step - loss: 0.4922 - accuracy: 0.7991\n",
      "Epoch 10/100\n",
      "891/891 [==============================] - 0s 57us/step - loss: 0.4840 - accuracy: 0.7991\n",
      "Epoch 11/100\n",
      "891/891 [==============================] - 0s 71us/step - loss: 0.4781 - accuracy: 0.7991\n",
      "Epoch 12/100\n",
      "891/891 [==============================] - 0s 85us/step - loss: 0.4729 - accuracy: 0.8047\n",
      "Epoch 13/100\n",
      "891/891 [==============================] - 0s 85us/step - loss: 0.4679 - accuracy: 0.8025\n",
      "Epoch 14/100\n",
      "891/891 [==============================] - 0s 73us/step - loss: 0.4656 - accuracy: 0.8058\n",
      "Epoch 15/100\n",
      "891/891 [==============================] - 0s 65us/step - loss: 0.4651 - accuracy: 0.8013\n",
      "Epoch 16/100\n",
      "891/891 [==============================] - 0s 90us/step - loss: 0.4625 - accuracy: 0.8013\n",
      "Epoch 17/100\n",
      "891/891 [==============================] - 0s 86us/step - loss: 0.4577 - accuracy: 0.8025\n",
      "Epoch 18/100\n",
      "891/891 [==============================] - 0s 71us/step - loss: 0.4556 - accuracy: 0.8036\n",
      "Epoch 19/100\n",
      "891/891 [==============================] - 0s 84us/step - loss: 0.4569 - accuracy: 0.7980\n",
      "Epoch 20/100\n",
      "891/891 [==============================] - 0s 78us/step - loss: 0.4531 - accuracy: 0.8025\n",
      "Epoch 21/100\n",
      "891/891 [==============================] - 0s 72us/step - loss: 0.4526 - accuracy: 0.8070\n",
      "Epoch 22/100\n",
      "891/891 [==============================] - 0s 57us/step - loss: 0.4527 - accuracy: 0.8025\n",
      "Epoch 23/100\n",
      "891/891 [==============================] - 0s 55us/step - loss: 0.4500 - accuracy: 0.8058\n",
      "Epoch 24/100\n",
      "891/891 [==============================] - 0s 56us/step - loss: 0.4523 - accuracy: 0.8002\n",
      "Epoch 25/100\n",
      "891/891 [==============================] - 0s 47us/step - loss: 0.4496 - accuracy: 0.8058\n",
      "Epoch 26/100\n",
      "891/891 [==============================] - 0s 58us/step - loss: 0.4492 - accuracy: 0.8013\n",
      "Epoch 27/100\n",
      "891/891 [==============================] - 0s 49us/step - loss: 0.4468 - accuracy: 0.8036\n",
      "Epoch 28/100\n",
      "891/891 [==============================] - 0s 47us/step - loss: 0.4477 - accuracy: 0.8070\n",
      "Epoch 29/100\n",
      "891/891 [==============================] - 0s 56us/step - loss: 0.4467 - accuracy: 0.8070\n",
      "Epoch 30/100\n",
      "891/891 [==============================] - 0s 45us/step - loss: 0.4462 - accuracy: 0.8025\n",
      "Epoch 31/100\n",
      "891/891 [==============================] - 0s 54us/step - loss: 0.4451 - accuracy: 0.8025\n",
      "Epoch 32/100\n",
      "891/891 [==============================] - 0s 53us/step - loss: 0.4447 - accuracy: 0.7991\n",
      "Epoch 33/100\n",
      "891/891 [==============================] - 0s 80us/step - loss: 0.4441 - accuracy: 0.8025 0s - loss: 0.4428 - accuracy: 0.80\n",
      "Epoch 34/100\n",
      "891/891 [==============================] - 0s 84us/step - loss: 0.4456 - accuracy: 0.8013\n",
      "Epoch 35/100\n",
      "891/891 [==============================] - 0s 84us/step - loss: 0.4422 - accuracy: 0.8103\n",
      "Epoch 36/100\n",
      "891/891 [==============================] - 0s 63us/step - loss: 0.4422 - accuracy: 0.8036\n",
      "Epoch 37/100\n",
      "891/891 [==============================] - 0s 53us/step - loss: 0.4418 - accuracy: 0.8070\n",
      "Epoch 38/100\n",
      "891/891 [==============================] - 0s 55us/step - loss: 0.4416 - accuracy: 0.8047\n",
      "Epoch 39/100\n",
      "891/891 [==============================] - 0s 54us/step - loss: 0.4450 - accuracy: 0.8025\n",
      "Epoch 40/100\n",
      "891/891 [==============================] - 0s 54us/step - loss: 0.4439 - accuracy: 0.8047\n",
      "Epoch 41/100\n",
      "891/891 [==============================] - 0s 69us/step - loss: 0.4418 - accuracy: 0.7980\n",
      "Epoch 42/100\n",
      "891/891 [==============================] - 0s 57us/step - loss: 0.4481 - accuracy: 0.7980\n",
      "Epoch 43/100\n",
      "891/891 [==============================] - 0s 52us/step - loss: 0.4419 - accuracy: 0.7980\n",
      "Epoch 44/100\n",
      "891/891 [==============================] - 0s 58us/step - loss: 0.4398 - accuracy: 0.8081\n",
      "Epoch 45/100\n",
      "891/891 [==============================] - 0s 80us/step - loss: 0.4476 - accuracy: 0.8092\n",
      "Epoch 46/100\n",
      "891/891 [==============================] - 0s 83us/step - loss: 0.4431 - accuracy: 0.8047\n",
      "Epoch 47/100\n",
      "891/891 [==============================] - 0s 75us/step - loss: 0.4418 - accuracy: 0.8081\n",
      "Epoch 48/100\n",
      "891/891 [==============================] - 0s 65us/step - loss: 0.4412 - accuracy: 0.8081\n",
      "Epoch 49/100\n",
      "891/891 [==============================] - 0s 83us/step - loss: 0.4401 - accuracy: 0.8058\n",
      "Epoch 50/100\n",
      "891/891 [==============================] - 0s 50us/step - loss: 0.4393 - accuracy: 0.8070\n",
      "Epoch 51/100\n",
      "891/891 [==============================] - 0s 74us/step - loss: 0.4417 - accuracy: 0.8013\n",
      "Epoch 52/100\n",
      "891/891 [==============================] - 0s 58us/step - loss: 0.4384 - accuracy: 0.8081\n",
      "Epoch 53/100\n",
      "891/891 [==============================] - 0s 76us/step - loss: 0.4420 - accuracy: 0.8025\n",
      "Epoch 54/100\n",
      "891/891 [==============================] - 0s 74us/step - loss: 0.4384 - accuracy: 0.8092\n",
      "Epoch 55/100\n",
      "891/891 [==============================] - 0s 81us/step - loss: 0.4379 - accuracy: 0.8070\n",
      "Epoch 56/100\n",
      "891/891 [==============================] - 0s 59us/step - loss: 0.4400 - accuracy: 0.8047\n",
      "Epoch 57/100\n",
      "891/891 [==============================] - 0s 61us/step - loss: 0.4404 - accuracy: 0.8114\n",
      "Epoch 58/100\n",
      "891/891 [==============================] - 0s 59us/step - loss: 0.4392 - accuracy: 0.8081\n",
      "Epoch 59/100\n",
      "891/891 [==============================] - 0s 81us/step - loss: 0.4394 - accuracy: 0.8036\n",
      "Epoch 60/100\n",
      "891/891 [==============================] - 0s 56us/step - loss: 0.4395 - accuracy: 0.8081\n",
      "Epoch 61/100\n",
      "891/891 [==============================] - 0s 64us/step - loss: 0.4379 - accuracy: 0.8036\n",
      "Epoch 62/100\n",
      "891/891 [==============================] - 0s 57us/step - loss: 0.4408 - accuracy: 0.8025\n",
      "Epoch 63/100\n",
      "891/891 [==============================] - 0s 65us/step - loss: 0.4429 - accuracy: 0.8058\n",
      "Epoch 64/100\n",
      "891/891 [==============================] - 0s 101us/step - loss: 0.4388 - accuracy: 0.8058\n",
      "Epoch 65/100\n",
      "891/891 [==============================] - 0s 53us/step - loss: 0.4390 - accuracy: 0.8036\n",
      "Epoch 66/100\n",
      "891/891 [==============================] - 0s 78us/step - loss: 0.4405 - accuracy: 0.8013\n",
      "Epoch 67/100\n",
      "891/891 [==============================] - 0s 73us/step - loss: 0.4423 - accuracy: 0.8092\n",
      "Epoch 68/100\n",
      "891/891 [==============================] - 0s 55us/step - loss: 0.4389 - accuracy: 0.8036\n",
      "Epoch 69/100\n",
      "891/891 [==============================] - 0s 70us/step - loss: 0.4431 - accuracy: 0.8036\n",
      "Epoch 70/100\n",
      "891/891 [==============================] - 0s 87us/step - loss: 0.4367 - accuracy: 0.8058\n",
      "Epoch 71/100\n",
      "891/891 [==============================] - 0s 79us/step - loss: 0.4355 - accuracy: 0.8025\n",
      "Epoch 72/100\n",
      "891/891 [==============================] - 0s 52us/step - loss: 0.4388 - accuracy: 0.8047\n",
      "Epoch 73/100\n",
      "891/891 [==============================] - 0s 80us/step - loss: 0.4414 - accuracy: 0.8013\n",
      "Epoch 74/100\n",
      "891/891 [==============================] - 0s 58us/step - loss: 0.4412 - accuracy: 0.8092\n",
      "Epoch 75/100\n",
      "891/891 [==============================] - 0s 83us/step - loss: 0.4403 - accuracy: 0.8058\n",
      "Epoch 76/100\n",
      "891/891 [==============================] - 0s 80us/step - loss: 0.4378 - accuracy: 0.8058\n",
      "Epoch 77/100\n",
      "891/891 [==============================] - 0s 58us/step - loss: 0.4367 - accuracy: 0.8058\n",
      "Epoch 78/100\n",
      "891/891 [==============================] - 0s 82us/step - loss: 0.4409 - accuracy: 0.8013\n",
      "Epoch 79/100\n",
      "891/891 [==============================] - 0s 52us/step - loss: 0.4362 - accuracy: 0.8103\n",
      "Epoch 80/100\n",
      "891/891 [==============================] - 0s 65us/step - loss: 0.4377 - accuracy: 0.8081\n",
      "Epoch 81/100\n",
      "891/891 [==============================] - 0s 42us/step - loss: 0.4374 - accuracy: 0.8047\n",
      "Epoch 82/100\n",
      "891/891 [==============================] - 0s 48us/step - loss: 0.4383 - accuracy: 0.8047\n",
      "Epoch 83/100\n",
      "891/891 [==============================] - 0s 41us/step - loss: 0.4339 - accuracy: 0.8013\n",
      "Epoch 84/100\n",
      "891/891 [==============================] - 0s 63us/step - loss: 0.4379 - accuracy: 0.8103\n",
      "Epoch 85/100\n",
      "891/891 [==============================] - 0s 60us/step - loss: 0.4387 - accuracy: 0.8025\n",
      "Epoch 86/100\n",
      "891/891 [==============================] - 0s 56us/step - loss: 0.4410 - accuracy: 0.8092\n",
      "Epoch 87/100\n",
      "891/891 [==============================] - 0s 46us/step - loss: 0.4376 - accuracy: 0.8070\n",
      "Epoch 88/100\n",
      "891/891 [==============================] - 0s 49us/step - loss: 0.4385 - accuracy: 0.8047\n",
      "Epoch 89/100\n",
      "891/891 [==============================] - 0s 66us/step - loss: 0.4357 - accuracy: 0.8025\n",
      "Epoch 90/100\n",
      "891/891 [==============================] - 0s 59us/step - loss: 0.4377 - accuracy: 0.8103\n",
      "Epoch 91/100\n",
      "891/891 [==============================] - 0s 66us/step - loss: 0.4388 - accuracy: 0.8070\n",
      "Epoch 92/100\n",
      "891/891 [==============================] - 0s 65us/step - loss: 0.4354 - accuracy: 0.8070\n",
      "Epoch 93/100\n",
      "891/891 [==============================] - 0s 45us/step - loss: 0.4384 - accuracy: 0.8013\n",
      "Epoch 94/100\n",
      "891/891 [==============================] - 0s 57us/step - loss: 0.4382 - accuracy: 0.8058\n",
      "Epoch 95/100\n",
      "891/891 [==============================] - 0s 61us/step - loss: 0.4379 - accuracy: 0.8103\n",
      "Epoch 96/100\n",
      "891/891 [==============================] - 0s 47us/step - loss: 0.4363 - accuracy: 0.8036\n",
      "Epoch 97/100\n",
      "891/891 [==============================] - 0s 49us/step - loss: 0.4391 - accuracy: 0.8070\n",
      "Epoch 98/100\n",
      "891/891 [==============================] - 0s 48us/step - loss: 0.4378 - accuracy: 0.8126\n",
      "Epoch 99/100\n",
      "891/891 [==============================] - 0s 71us/step - loss: 0.4403 - accuracy: 0.8081\n",
      "Epoch 100/100\n",
      "891/891 [==============================] - 0s 54us/step - loss: 0.4429 - accuracy: 0.8058\n"
     ]
    }
   ],
   "source": [
    "# Train and optimize the model\n",
    "trained_model = model.fit(X, d, epochs = 100)"
   ]
  },
  {
   "cell_type": "code",
   "execution_count": 28,
   "metadata": {
    "scrolled": true
   },
   "outputs": [
    {
     "name": "stdout",
     "output_type": "stream",
     "text": [
      "891/891 [==============================] - 0s 103us/step\n",
      "Test Score: 0.4362978297385035\n",
      "Test Accuracy: 80.92%\n"
     ]
    }
   ],
   "source": [
    "# Evaluate the training data\n",
    "score, acc = model.evaluate(X, d)\n",
    "print('Test Score:', score)\n",
    "print('Test Accuracy: %.2f%%' % (acc * 100))"
   ]
  },
  {
   "cell_type": "markdown",
   "metadata": {},
   "source": [
    "### Review the prediction of the model"
   ]
  },
  {
   "cell_type": "code",
   "execution_count": 29,
   "metadata": {
    "scrolled": false
   },
   "outputs": [
    {
     "name": "stdout",
     "output_type": "stream",
     "text": [
      "[[0.0], [1.0], [1.0], [1.0], [0.0], [0.0], [0.0], [0.0], [1.0], [1.0], [1.0], [1.0], [0.0], [0.0], [1.0], [1.0], [0.0], [0.0], [1.0], [1.0], [0.0], [0.0], [1.0], [0.0], [0.0], [0.0], [0.0], [0.0], [1.0], [0.0], [0.0], [1.0], [1.0], [0.0], [0.0], [0.0], [0.0], [0.0], [1.0], [1.0], [1.0], [1.0], [0.0], [1.0], [1.0], [0.0], [0.0], [1.0], [0.0], [1.0], [0.0], [0.0], [1.0], [1.0], [0.0], [0.0], [1.0], [0.0], [1.0], [0.0], [0.0], [1.0], [0.0], [0.0], [0.0], [0.0], [1.0], [0.0], [0.0], [0.0], [0.0], [0.0], [0.0], [0.0], [0.0], [0.0], [0.0], [0.0], [1.0], [1.0], [0.0], [0.0], [1.0], [0.0], [1.0], [0.0], [0.0], [0.0], [1.0], [0.0], [0.0], [0.0], [0.0], [0.0], [0.0], [0.0], [0.0], [0.0], [1.0], [0.0], [1.0], [0.0], [0.0], [0.0], [0.0], [0.0], [1.0], [0.0], [0.0], [1.0], [0.0], [1.0], [0.0], [1.0], [1.0], [0.0], [0.0], [0.0], [0.0], [0.0], [0.0], [0.0], [0.0], [1.0], [0.0], [0.0], [0.0], [0.0], [1.0], [0.0], [0.0], [0.0], [1.0], [1.0], [0.0], [0.0], [1.0], [0.0], [0.0], [0.0], [1.0], [1.0], [1.0], [0.0], [0.0], [0.0], [0.0], [0.0], [1.0], [0.0], [0.0], [1.0], [0.0], [0.0], [0.0], [0.0], [1.0], [0.0], [0.0], [0.0], [0.0], [1.0], [0.0], [0.0], [0.0], [0.0], [1.0], [0.0], [0.0], [0.0], [0.0], [0.0], [1.0], [0.0], [0.0], [0.0], [0.0], [1.0], [0.0], [0.0], [0.0], [0.0], [0.0], [0.0], [1.0], [0.0], [1.0], [0.0], [0.0], [0.0], [1.0], [0.0], [1.0], [0.0], [1.0], [1.0], [0.0], [0.0], [1.0], [1.0], [0.0], [0.0], [0.0], [0.0], [0.0], [1.0], [0.0], [0.0], [1.0], [0.0], [0.0], [1.0], [0.0], [0.0], [0.0], [1.0], [1.0], [0.0], [1.0], [0.0], [0.0], [0.0], [0.0], [0.0], [0.0], [0.0], [0.0], [0.0], [0.0], [0.0], [1.0], [0.0], [0.0], [0.0], [0.0], [1.0], [0.0], [1.0], [0.0], [0.0], [1.0], [1.0], [0.0], [0.0], [0.0], [0.0], [1.0], [1.0], [1.0], [0.0], [0.0], [1.0], [0.0], [0.0], [1.0], [1.0], [1.0], [1.0], [1.0], [1.0], [0.0], [0.0], [1.0], [0.0], [1.0], [0.0], [0.0], [0.0], [1.0], [1.0], [0.0], [0.0], [1.0], [0.0], [1.0], [1.0], [1.0], [0.0], [0.0], [1.0], [0.0], [0.0], [0.0], [0.0], [0.0], [0.0], [0.0], [0.0], [0.0], [1.0], [1.0], [1.0], [0.0], [1.0], [0.0], [0.0], [0.0], [1.0], [0.0], [1.0], [1.0], [0.0], [0.0], [1.0], [0.0], [1.0], [1.0], [1.0], [0.0], [1.0], [1.0], [1.0], [1.0], [0.0], [0.0], [1.0], [1.0], [0.0], [1.0], [1.0], [0.0], [0.0], [1.0], [1.0], [0.0], [1.0], [0.0], [1.0], [1.0], [1.0], [1.0], [0.0], [0.0], [0.0], [1.0], [0.0], [0.0], [1.0], [0.0], [0.0], [0.0], [1.0], [0.0], [0.0], [0.0], [1.0], [1.0], [1.0], [0.0], [0.0], [0.0], [0.0], [0.0], [0.0], [0.0], [0.0], [1.0], [1.0], [1.0], [1.0], [0.0], [0.0], [1.0], [0.0], [0.0], [0.0], [1.0], [1.0], [1.0], [1.0], [0.0], [0.0], [0.0], [0.0], [0.0], [1.0], [1.0], [1.0], [0.0], [0.0], [1.0], [1.0], [0.0], [1.0], [0.0], [0.0], [0.0], [1.0], [0.0], [1.0], [1.0], [0.0], [0.0], [1.0], [1.0], [0.0], [1.0], [0.0], [0.0], [1.0], [0.0], [0.0], [1.0], [0.0], [1.0], [0.0], [0.0], [0.0], [0.0], [0.0], [0.0], [0.0], [1.0], [0.0], [0.0], [1.0], [1.0], [1.0], [0.0], [1.0], [0.0], [0.0], [0.0], [1.0], [0.0], [0.0], [1.0], [1.0], [0.0], [0.0], [0.0], [1.0], [1.0], [0.0], [0.0], [1.0], [0.0], [1.0], [1.0], [0.0], [1.0], [0.0], [0.0], [1.0], [0.0], [1.0], [1.0], [0.0], [0.0], [0.0], [0.0], [0.0], [0.0], [0.0], [0.0], [0.0], [0.0], [1.0], [1.0], [0.0], [0.0], [0.0], [0.0], [0.0], [0.0], [0.0], [0.0], [0.0], [0.0], [0.0], [0.0], [0.0], [1.0], [1.0], [1.0], [0.0], [0.0], [0.0], [0.0], [1.0], [0.0], [0.0], [0.0], [1.0], [0.0], [0.0], [1.0], [0.0], [0.0], [0.0], [0.0], [0.0], [0.0], [0.0], [0.0], [0.0], [1.0], [0.0], [1.0], [0.0], [0.0], [1.0], [1.0], [1.0], [1.0], [0.0], [1.0], [0.0], [0.0], [0.0], [0.0], [0.0], [0.0], [1.0], [0.0], [0.0], [1.0], [0.0], [1.0], [0.0], [1.0], [0.0], [0.0], [1.0], [0.0], [0.0], [1.0], [0.0], [0.0], [0.0], [1.0], [0.0], [0.0], [1.0], [1.0], [1.0], [0.0], [1.0], [0.0], [1.0], [1.0], [0.0], [0.0], [0.0], [0.0], [0.0], [1.0], [0.0], [0.0], [0.0], [1.0], [0.0], [0.0], [0.0], [1.0], [0.0], [1.0], [0.0], [1.0], [1.0], [0.0], [0.0], [0.0], [0.0], [1.0], [0.0], [0.0], [0.0], [0.0], [0.0], [0.0], [1.0], [0.0], [1.0], [0.0], [0.0], [1.0], [1.0], [1.0], [0.0], [1.0], [1.0], [0.0], [0.0], [0.0], [1.0], [0.0], [1.0], [0.0], [0.0], [0.0], [1.0], [0.0], [1.0], [0.0], [0.0], [1.0], [0.0], [0.0], [0.0], [1.0], [0.0], [0.0], [0.0], [0.0], [0.0], [0.0], [0.0], [1.0], [1.0], [0.0], [0.0], [1.0], [0.0], [0.0], [1.0], [0.0], [1.0], [1.0], [0.0], [0.0], [0.0], [0.0], [0.0], [0.0], [0.0], [0.0], [1.0], [0.0], [0.0], [0.0], [0.0], [0.0], [0.0], [0.0], [1.0], [0.0], [0.0], [0.0], [0.0], [0.0], [1.0], [0.0], [0.0], [0.0], [0.0], [0.0], [0.0], [0.0], [1.0], [0.0], [1.0], [0.0], [1.0], [1.0], [0.0], [0.0], [1.0], [0.0], [1.0], [0.0], [0.0], [0.0], [0.0], [0.0], [0.0], [0.0], [0.0], [0.0], [1.0], [1.0], [0.0], [0.0], [0.0], [0.0], [0.0], [0.0], [1.0], [0.0], [0.0], [1.0], [0.0], [0.0], [0.0], [0.0], [0.0], [0.0], [0.0], [0.0], [1.0], [0.0], [1.0], [0.0], [0.0], [0.0], [0.0], [0.0], [1.0], [1.0], [0.0], [1.0], [0.0], [1.0], [0.0], [0.0], [0.0], [1.0], [0.0], [1.0], [0.0], [1.0], [0.0], [0.0], [0.0], [0.0], [0.0], [1.0], [1.0], [0.0], [0.0], [1.0], [0.0], [0.0], [0.0], [0.0], [0.0], [1.0], [1.0], [0.0], [1.0], [1.0], [0.0], [0.0], [0.0], [0.0], [0.0], [0.0], [0.0], [0.0], [0.0], [0.0], [0.0], [1.0], [0.0], [0.0], [1.0], [0.0], [1.0], [0.0], [0.0], [1.0], [0.0], [0.0], [0.0], [1.0], [0.0], [0.0], [0.0], [0.0], [1.0], [0.0], [0.0], [0.0], [1.0], [0.0], [1.0], [0.0], [1.0], [0.0], [0.0], [0.0], [0.0], [1.0], [0.0], [1.0], [0.0], [0.0], [1.0], [0.0], [1.0], [1.0], [1.0], [0.0], [0.0], [0.0], [0.0], [1.0], [0.0], [0.0], [0.0], [0.0], [0.0], [0.0], [0.0], [0.0], [0.0], [1.0], [1.0], [0.0], [1.0], [0.0], [1.0], [1.0], [0.0], [0.0], [0.0], [0.0], [1.0], [0.0], [1.0], [0.0], [0.0], [0.0], [0.0], [0.0], [0.0], [1.0], [0.0], [0.0], [0.0], [1.0], [0.0], [0.0], [1.0], [0.0], [0.0], [0.0], [1.0], [0.0], [1.0], [1.0], [0.0], [0.0], [0.0], [0.0], [1.0], [0.0], [0.0], [0.0], [0.0], [0.0], [0.0], [1.0], [0.0], [0.0], [0.0], [0.0], [0.0], [0.0], [1.0], [0.0], [0.0], [1.0], [1.0], [1.0], [1.0], [1.0], [0.0], [1.0], [0.0], [0.0], [0.0], [1.0], [0.0], [0.0], [1.0], [1.0], [0.0], [0.0], [0.0], [0.0], [1.0], [0.0], [0.0], [1.0], [1.0], [0.0], [0.0], [0.0], [1.0], [1.0], [0.0], [1.0], [0.0], [0.0], [0.0], [0.0], [1.0], [0.0], [0.0], [0.0]]\n"
     ]
    }
   ],
   "source": [
    "# Predict the results of the training data\n",
    "prediction = model.predict(X).round().tolist()\n",
    "print(prediction)"
   ]
  },
  {
   "cell_type": "code",
   "execution_count": 30,
   "metadata": {},
   "outputs": [
    {
     "data": {
      "text/html": [
       "<div>\n",
       "<style scoped>\n",
       "    .dataframe tbody tr th:only-of-type {\n",
       "        vertical-align: middle;\n",
       "    }\n",
       "\n",
       "    .dataframe tbody tr th {\n",
       "        vertical-align: top;\n",
       "    }\n",
       "\n",
       "    .dataframe thead th {\n",
       "        text-align: right;\n",
       "    }\n",
       "</style>\n",
       "<table border=\"1\" class=\"dataframe\">\n",
       "  <thead>\n",
       "    <tr style=\"text-align: right;\">\n",
       "      <th></th>\n",
       "      <th>PassengerId</th>\n",
       "      <th>Survived</th>\n",
       "      <th>check</th>\n",
       "    </tr>\n",
       "  </thead>\n",
       "  <tbody>\n",
       "    <tr>\n",
       "      <th>0</th>\n",
       "      <td>892</td>\n",
       "      <td>0</td>\n",
       "      <td>0.185642</td>\n",
       "    </tr>\n",
       "    <tr>\n",
       "      <th>1</th>\n",
       "      <td>893</td>\n",
       "      <td>1</td>\n",
       "      <td>0.952979</td>\n",
       "    </tr>\n",
       "    <tr>\n",
       "      <th>2</th>\n",
       "      <td>894</td>\n",
       "      <td>0</td>\n",
       "      <td>0.676371</td>\n",
       "    </tr>\n",
       "    <tr>\n",
       "      <th>3</th>\n",
       "      <td>895</td>\n",
       "      <td>0</td>\n",
       "      <td>0.952979</td>\n",
       "    </tr>\n",
       "    <tr>\n",
       "      <th>4</th>\n",
       "      <td>896</td>\n",
       "      <td>1</td>\n",
       "      <td>0.142893</td>\n",
       "    </tr>\n",
       "    <tr>\n",
       "      <th>...</th>\n",
       "      <td>...</td>\n",
       "      <td>...</td>\n",
       "      <td>...</td>\n",
       "    </tr>\n",
       "    <tr>\n",
       "      <th>413</th>\n",
       "      <td>1305</td>\n",
       "      <td>0</td>\n",
       "      <td>0.228685</td>\n",
       "    </tr>\n",
       "    <tr>\n",
       "      <th>414</th>\n",
       "      <td>1306</td>\n",
       "      <td>1</td>\n",
       "      <td>0.142893</td>\n",
       "    </tr>\n",
       "    <tr>\n",
       "      <th>415</th>\n",
       "      <td>1307</td>\n",
       "      <td>0</td>\n",
       "      <td>0.676371</td>\n",
       "    </tr>\n",
       "    <tr>\n",
       "      <th>416</th>\n",
       "      <td>1308</td>\n",
       "      <td>0</td>\n",
       "      <td>0.872397</td>\n",
       "    </tr>\n",
       "    <tr>\n",
       "      <th>417</th>\n",
       "      <td>1309</td>\n",
       "      <td>0</td>\n",
       "      <td>0.886079</td>\n",
       "    </tr>\n",
       "  </tbody>\n",
       "</table>\n",
       "<p>418 rows × 3 columns</p>\n",
       "</div>"
      ],
      "text/plain": [
       "     PassengerId  Survived     check\n",
       "0            892         0  0.185642\n",
       "1            893         1  0.952979\n",
       "2            894         0  0.676371\n",
       "3            895         0  0.952979\n",
       "4            896         1  0.142893\n",
       "..           ...       ...       ...\n",
       "413         1305         0  0.228685\n",
       "414         1306         1  0.142893\n",
       "415         1307         0  0.676371\n",
       "416         1308         0  0.872397\n",
       "417         1309         0  0.886079\n",
       "\n",
       "[418 rows x 3 columns]"
      ]
     },
     "execution_count": 30,
     "metadata": {},
     "output_type": "execute_result"
    }
   ],
   "source": [
    "# Visualize the predictions in a DataFrame\n",
    "prediction = model.predict(X).tolist()\n",
    "\n",
    "# Covert list to Series\n",
    "se = pd.Series(prediction)\n",
    "\n",
    "# Add new column of predictions in the DataFrame target_data\n",
    "target_data['check'] = se\n",
    "\n",
    "target_data['check'] = target_data['check'].str.get(0)  # Exctracts elements, converting to float\n",
    "target_data"
   ]
  },
  {
   "cell_type": "code",
   "execution_count": 31,
   "metadata": {},
   "outputs": [
    {
     "data": {
      "text/html": [
       "<div>\n",
       "<style scoped>\n",
       "    .dataframe tbody tr th:only-of-type {\n",
       "        vertical-align: middle;\n",
       "    }\n",
       "\n",
       "    .dataframe tbody tr th {\n",
       "        vertical-align: top;\n",
       "    }\n",
       "\n",
       "    .dataframe thead th {\n",
       "        text-align: right;\n",
       "    }\n",
       "</style>\n",
       "<table border=\"1\" class=\"dataframe\">\n",
       "  <thead>\n",
       "    <tr style=\"text-align: right;\">\n",
       "      <th></th>\n",
       "      <th>PassengerId</th>\n",
       "      <th>Survived</th>\n",
       "      <th>check</th>\n",
       "      <th>final</th>\n",
       "    </tr>\n",
       "  </thead>\n",
       "  <tbody>\n",
       "    <tr>\n",
       "      <th>0</th>\n",
       "      <td>892</td>\n",
       "      <td>0</td>\n",
       "      <td>0.185642</td>\n",
       "      <td>0</td>\n",
       "    </tr>\n",
       "    <tr>\n",
       "      <th>1</th>\n",
       "      <td>893</td>\n",
       "      <td>1</td>\n",
       "      <td>0.952979</td>\n",
       "      <td>1</td>\n",
       "    </tr>\n",
       "    <tr>\n",
       "      <th>2</th>\n",
       "      <td>894</td>\n",
       "      <td>0</td>\n",
       "      <td>0.676371</td>\n",
       "      <td>1</td>\n",
       "    </tr>\n",
       "    <tr>\n",
       "      <th>3</th>\n",
       "      <td>895</td>\n",
       "      <td>0</td>\n",
       "      <td>0.952979</td>\n",
       "      <td>1</td>\n",
       "    </tr>\n",
       "    <tr>\n",
       "      <th>4</th>\n",
       "      <td>896</td>\n",
       "      <td>1</td>\n",
       "      <td>0.142893</td>\n",
       "      <td>0</td>\n",
       "    </tr>\n",
       "    <tr>\n",
       "      <th>...</th>\n",
       "      <td>...</td>\n",
       "      <td>...</td>\n",
       "      <td>...</td>\n",
       "      <td>...</td>\n",
       "    </tr>\n",
       "    <tr>\n",
       "      <th>413</th>\n",
       "      <td>1305</td>\n",
       "      <td>0</td>\n",
       "      <td>0.228685</td>\n",
       "      <td>0</td>\n",
       "    </tr>\n",
       "    <tr>\n",
       "      <th>414</th>\n",
       "      <td>1306</td>\n",
       "      <td>1</td>\n",
       "      <td>0.142893</td>\n",
       "      <td>0</td>\n",
       "    </tr>\n",
       "    <tr>\n",
       "      <th>415</th>\n",
       "      <td>1307</td>\n",
       "      <td>0</td>\n",
       "      <td>0.676371</td>\n",
       "      <td>1</td>\n",
       "    </tr>\n",
       "    <tr>\n",
       "      <th>416</th>\n",
       "      <td>1308</td>\n",
       "      <td>0</td>\n",
       "      <td>0.872397</td>\n",
       "      <td>1</td>\n",
       "    </tr>\n",
       "    <tr>\n",
       "      <th>417</th>\n",
       "      <td>1309</td>\n",
       "      <td>0</td>\n",
       "      <td>0.886079</td>\n",
       "      <td>1</td>\n",
       "    </tr>\n",
       "  </tbody>\n",
       "</table>\n",
       "<p>418 rows × 4 columns</p>\n",
       "</div>"
      ],
      "text/plain": [
       "     PassengerId  Survived     check  final\n",
       "0            892         0  0.185642      0\n",
       "1            893         1  0.952979      1\n",
       "2            894         0  0.676371      1\n",
       "3            895         0  0.952979      1\n",
       "4            896         1  0.142893      0\n",
       "..           ...       ...       ...    ...\n",
       "413         1305         0  0.228685      0\n",
       "414         1306         1  0.142893      0\n",
       "415         1307         0  0.676371      1\n",
       "416         1308         0  0.872397      1\n",
       "417         1309         0  0.886079      1\n",
       "\n",
       "[418 rows x 4 columns]"
      ]
     },
     "execution_count": 31,
     "metadata": {},
     "output_type": "execute_result"
    }
   ],
   "source": [
    "# Create a new column which summarizes (rounds) the predictions\n",
    "Series = []\n",
    "for val in target_data.check:\n",
    "    if val >= 0.5:\n",
    "        Series.append(1)\n",
    "    else:\n",
    "        Series.append(0)\n",
    "        \n",
    "# Add new column\n",
    "target_data['final'] = Series\n",
    "target_data"
   ]
  },
  {
   "cell_type": "code",
   "execution_count": 32,
   "metadata": {},
   "outputs": [
    {
     "name": "stdout",
     "output_type": "stream",
     "text": [
      "The MATCHED values for this case are: 226\n",
      "The UNMATCHED values for this case are: 192\n"
     ]
    }
   ],
   "source": [
    "# Review how many predictions are correct\n",
    "match = 0\n",
    "nomatch = 0\n",
    "for val in target_data.values:\n",
    "    if val[1] == val[3]:\n",
    "        match = match +1\n",
    "    else:\n",
    "        nomatch = nomatch +1\n",
    "        \n",
    "print(\"The MATCHED values for this case are:\", match)\n",
    "print(\"The UNMATCHED values for this case are:\",nomatch)"
   ]
  },
  {
   "cell_type": "code",
   "execution_count": 33,
   "metadata": {},
   "outputs": [
    {
     "name": "stdout",
     "output_type": "stream",
     "text": [
      "891/891 [==============================] - 0s 37us/step\n",
      "Score: 0.4362978297385035\n",
      "Accuracy: 80.92%\n"
     ]
    }
   ],
   "source": [
    "# Evaluate the training data\n",
    "score, acc = model.evaluate(X, d)\n",
    "print('Score:', score)\n",
    "print('Accuracy: %.2f%%' % (acc * 100))"
   ]
  },
  {
   "cell_type": "markdown",
   "metadata": {},
   "source": [
    "## Visualization"
   ]
  },
  {
   "cell_type": "code",
   "execution_count": 34,
   "metadata": {},
   "outputs": [
    {
     "data": {
      "image/png": "[encoded data removed]",
      "text/plain": [
       "<IPython.core.display.Image object>"
      ]
     },
     "execution_count": 34,
     "metadata": {},
     "output_type": "execute_result"
    }
   ],
   "source": [
    "# Model Visualization\n",
    "from keras.utils import plot_model\n",
    "\n",
    "plot_model(model, to_file='model.png')"
   ]
  },
  {
   "cell_type": "code",
   "execution_count": 35,
   "metadata": {},
   "outputs": [],
   "source": [
    "# Visualize the Neural Network\n",
    "from ann_visualizer.visualize import ann_viz;\n",
    "\n",
    "# Saves image as PDF\n",
    "ann_viz(model, view = False, filename = \"neural-network\", title = \"My Neural Network – Titanic\")"
   ]
  },
  {
   "cell_type": "code",
   "execution_count": 36,
   "metadata": {},
   "outputs": [],
   "source": [
    "import matplotlib.pyplot as plt"
   ]
  },
  {
   "cell_type": "code",
   "execution_count": 37,
   "metadata": {},
   "outputs": [],
   "source": [
    "# x-axis = array of epochs (length of history)\n",
    "# y = history of accuracy\n",
    "\n",
    "epochs = range(1, len(trained_model.history[\"loss\"]) + 1, 1)  # starting point, last point, steps"
   ]
  },
  {
   "cell_type": "code",
   "execution_count": 38,
   "metadata": {},
   "outputs": [],
   "source": [
    "# Automating the chart data\n",
    "historyKeys = list(trained_model.history.keys())\n",
    "\n",
    "historyKeysLoss = historyKeys[0]\n",
    "trained_model_Loss = trained_model.history[historyKeysLoss]  # \"loss\"\n",
    "\n",
    "historyKeysMetrics = historyKeys[1]\n",
    "trained_model_Metrics = trained_model.history[historyKeysMetrics]  # \"accuracy\""
   ]
  },
  {
   "cell_type": "code",
   "execution_count": 39,
   "metadata": {},
   "outputs": [
    {
     "data": {
      "image/png": "[encoded data removed]",
      "text/plain": [
       "<Figure size 1296x864 with 1 Axes>"
      ]
     },
     "metadata": {
      "needs_background": "light"
     },
     "output_type": "display_data"
    }
   ],
   "source": [
    "plt.figure(figsize = (18, 12))\n",
    "plt.plot(epochs, trained_model_Loss, \"r--\", label = \"Error\")\n",
    "plt.plot(epochs, trained_model_Metrics, \"b--\", label = \"Accuracy\")\n",
    "plt.title(\"Evolution of the error\")\n",
    "plt.ylabel(\"error\")\n",
    "plt.xlabel(\"epochs\")\n",
    "plt.legend()  # show legend\n",
    "plt.savefig('chart.png', dpi = 300, transparent = True)"
   ]
  },
  {
   "cell_type": "markdown",
   "metadata": {},
   "source": [
    "## Save the model"
   ]
  },
  {
   "cell_type": "code",
   "execution_count": 40,
   "metadata": {},
   "outputs": [],
   "source": [
    "model.save(\"MyNetworkTitanic.h5\") "
   ]
  },
  {
   "cell_type": "markdown",
   "metadata": {},
   "source": [
    "## Predict a new case"
   ]
  },
  {
   "cell_type": "code",
   "execution_count": 41,
   "metadata": {},
   "outputs": [
    {
     "data": {
      "text/plain": [
       "array([ 0.82737724,  0.73769513,  0.43279337, -0.47367361])"
      ]
     },
     "execution_count": 41,
     "metadata": {},
     "output_type": "execute_result"
    }
   ],
   "source": [
    "# View how many variables the model accepts\n",
    "X[0]\n",
    "# PassageClass, Sex, SiblingsSpouses, ParentsChildren"
   ]
  },
  {
   "cell_type": "code",
   "execution_count": 42,
   "metadata": {},
   "outputs": [
    {
     "data": {
      "text/html": [
       "<div>\n",
       "<style scoped>\n",
       "    .dataframe tbody tr th:only-of-type {\n",
       "        vertical-align: middle;\n",
       "    }\n",
       "\n",
       "    .dataframe tbody tr th {\n",
       "        vertical-align: top;\n",
       "    }\n",
       "\n",
       "    .dataframe thead th {\n",
       "        text-align: right;\n",
       "    }\n",
       "</style>\n",
       "<table border=\"1\" class=\"dataframe\">\n",
       "  <thead>\n",
       "    <tr style=\"text-align: right;\">\n",
       "      <th></th>\n",
       "      <th>0</th>\n",
       "      <th>1</th>\n",
       "      <th>2</th>\n",
       "      <th>3</th>\n",
       "    </tr>\n",
       "  </thead>\n",
       "  <tbody>\n",
       "    <tr>\n",
       "      <th>0</th>\n",
       "      <td>3</td>\n",
       "      <td>1</td>\n",
       "      <td>0</td>\n",
       "      <td>0</td>\n",
       "    </tr>\n",
       "  </tbody>\n",
       "</table>\n",
       "</div>"
      ],
      "text/plain": [
       "   0  1  2  3\n",
       "0  3  1  0  0"
      ]
     },
     "execution_count": 42,
     "metadata": {},
     "output_type": "execute_result"
    }
   ],
   "source": [
    "# Create a new person/case (DataFrame)\n",
    "# PassageClass, Sex, SiblingsSpouses, ParentsChildren\n",
    "dicaprio = pd.DataFrame([3, \"male\", 0, 0]).T  # Transpose to create a new record (row)\n",
    "\n",
    "# Male = 1\n",
    "# Female = 0\n",
    "\n",
    "dicaprio.iloc[:,1] = label_encoder_gender.transform(dicaprio.iloc[:,1])  # Converts Strings to numbers\n",
    "dicaprio"
   ]
  },
  {
   "cell_type": "code",
   "execution_count": 43,
   "metadata": {},
   "outputs": [
    {
     "data": {
      "text/plain": [
       "array([[ 0.82737724,  0.73769513, -0.4745452 , -0.47367361]])"
      ]
     },
     "execution_count": 43,
     "metadata": {},
     "output_type": "execute_result"
    }
   ],
   "source": [
    "# Transform data (to normalize with the rest of the training data)\n",
    "transformed_dicaprio = sc.transform(dicaprio)\n",
    "transformed_dicaprio"
   ]
  },
  {
   "cell_type": "code",
   "execution_count": 44,
   "metadata": {
    "scrolled": true
   },
   "outputs": [
    {
     "data": {
      "text/html": [
       "<div>\n",
       "<style scoped>\n",
       "    .dataframe tbody tr th:only-of-type {\n",
       "        vertical-align: middle;\n",
       "    }\n",
       "\n",
       "    .dataframe tbody tr th {\n",
       "        vertical-align: top;\n",
       "    }\n",
       "\n",
       "    .dataframe thead th {\n",
       "        text-align: right;\n",
       "    }\n",
       "</style>\n",
       "<table border=\"1\" class=\"dataframe\">\n",
       "  <thead>\n",
       "    <tr style=\"text-align: right;\">\n",
       "      <th></th>\n",
       "      <th>0</th>\n",
       "      <th>1</th>\n",
       "      <th>2</th>\n",
       "      <th>3</th>\n",
       "      <th>Check</th>\n",
       "    </tr>\n",
       "  </thead>\n",
       "  <tbody>\n",
       "    <tr>\n",
       "      <th>0</th>\n",
       "      <td>3</td>\n",
       "      <td>1</td>\n",
       "      <td>0</td>\n",
       "      <td>0</td>\n",
       "      <td>0.142893</td>\n",
       "    </tr>\n",
       "  </tbody>\n",
       "</table>\n",
       "</div>"
      ],
      "text/plain": [
       "   0  1  2  3     Check\n",
       "0  3  1  0  0  0.142893"
      ]
     },
     "execution_count": 44,
     "metadata": {},
     "output_type": "execute_result"
    }
   ],
   "source": [
    "prediction_dicaprio = model.predict(transformed_dicaprio).tolist()\n",
    "\n",
    "dicaprio[\"Check\"] = pd.DataFrame(prediction_dicaprio[0], columns=[\"Check\"])\n",
    "dicaprio"
   ]
  },
  {
   "cell_type": "code",
   "execution_count": 45,
   "metadata": {
    "scrolled": true
   },
   "outputs": [
    {
     "data": {
      "text/html": [
       "<div>\n",
       "<style scoped>\n",
       "    .dataframe tbody tr th:only-of-type {\n",
       "        vertical-align: middle;\n",
       "    }\n",
       "\n",
       "    .dataframe tbody tr th {\n",
       "        vertical-align: top;\n",
       "    }\n",
       "\n",
       "    .dataframe thead th {\n",
       "        text-align: right;\n",
       "    }\n",
       "</style>\n",
       "<table border=\"1\" class=\"dataframe\">\n",
       "  <thead>\n",
       "    <tr style=\"text-align: right;\">\n",
       "      <th></th>\n",
       "      <th>0</th>\n",
       "      <th>1</th>\n",
       "      <th>2</th>\n",
       "      <th>3</th>\n",
       "      <th>Check</th>\n",
       "      <th>final</th>\n",
       "    </tr>\n",
       "  </thead>\n",
       "  <tbody>\n",
       "    <tr>\n",
       "      <th>0</th>\n",
       "      <td>3</td>\n",
       "      <td>1</td>\n",
       "      <td>0</td>\n",
       "      <td>0</td>\n",
       "      <td>0.142893</td>\n",
       "      <td>0</td>\n",
       "    </tr>\n",
       "  </tbody>\n",
       "</table>\n",
       "</div>"
      ],
      "text/plain": [
       "   0  1  2  3     Check  final\n",
       "0  3  1  0  0  0.142893      0"
      ]
     },
     "execution_count": 45,
     "metadata": {},
     "output_type": "execute_result"
    }
   ],
   "source": [
    "# Create a new column which summarizes (rounds) the predictions\n",
    "Series = []\n",
    "for val in dicaprio.Check:\n",
    "    if val >= 0.5:\n",
    "        Series.append(1)\n",
    "    else:\n",
    "        Series.append(0)\n",
    "\n",
    "\n",
    "# Add new column\n",
    "dicaprio['final'] = Series\n",
    "dicaprio"
   ]
  },
  {
   "cell_type": "code",
   "execution_count": null,
   "metadata": {},
   "outputs": [],
   "source": []
  }
 ],
 "metadata": {
  "kernelspec": {
   "display_name": "Python 3",
   "language": "python",
   "name": "python3"
  },
  "language_info": {
   "codemirror_mode": {
    "name": "ipython",
    "version": 3
   },
   "file_extension": ".py",
   "mimetype": "text/x-python",
   "name": "python",
   "nbconvert_exporter": "python",
   "pygments_lexer": "ipython3",
   "version": "3.7.3"
  }
 },
 "nbformat": 4,
 "nbformat_minor": 4
}
