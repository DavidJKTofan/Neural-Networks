{
  "nbformat": 4,
  "nbformat_minor": 0,
  "metadata": {
    "colab": {
      "name": "Generative Adversarial Network (GAN).ipynb",
      "provenance": [],
      "collapsed_sections": []
    },
    "kernelspec": {
      "name": "python3",
      "display_name": "Python 3"
    },
    "accelerator": "GPU"
  },
  "cells": [
    {
      "cell_type": "markdown",
      "metadata": {
        "id": "b0p1kxPAsLBr",
        "colab_type": "text"
      },
      "source": [
        "# Generative Adversarial Network (GAN)"
      ]
    },
    {
      "cell_type": "code",
      "metadata": {
        "id": "QeQ_UR_ssDGQ",
        "colab_type": "code",
        "outputId": "4bf13d66-54c9-48f8-cc23-99c39f6b5b34",
        "colab": {
          "base_uri": "https://localhost:8080/",
          "height": 51
        }
      },
      "source": [
        "# Import TensorFlow\n",
        "%tensorflow_version 2.x\n",
        "import tensorflow as tf\n",
        "print(tf.__version__)"
      ],
      "execution_count": 1,
      "outputs": [
        {
          "output_type": "stream",
          "text": [
            "TensorFlow 2.x selected.\n",
            "2.1.0\n"
          ],
          "name": "stdout"
        }
      ]
    },
    {
      "cell_type": "markdown",
      "metadata": {
        "id": "IPCCfd-JtThW",
        "colab_type": "text"
      },
      "source": [
        "## Libraries"
      ]
    },
    {
      "cell_type": "code",
      "metadata": {
        "id": "shHnpkMctUmT",
        "colab_type": "code",
        "colab": {}
      },
      "source": [
        "# Work with images\n",
        "import imageio\n",
        "\n",
        "# Visualization\n",
        "import matplotlib.pyplot as plt\n",
        "\n",
        "# Operations\n",
        "import numpy as np\n",
        "\n",
        "# Files and Folders\n",
        "import os\n",
        "\n",
        "# Image Processing\n",
        "import PIL\n",
        "\n",
        "# Neural Network Layers\n",
        "from tensorflow.keras.layers import Dense, BatchNormalization, Conv2DTranspose, LeakyReLU, Reshape, Conv2D, Flatten, Dropout\n",
        "\n",
        "# Time\n",
        "import time\n",
        "\n",
        "# Display data\n",
        "from IPython import display"
      ],
      "execution_count": 0,
      "outputs": []
    },
    {
      "cell_type": "markdown",
      "metadata": {
        "id": "3uI5BNaRtFdg",
        "colab_type": "text"
      },
      "source": [
        "## Load the data"
      ]
    },
    {
      "cell_type": "code",
      "metadata": {
        "id": "0jpAABOvs6YN",
        "colab_type": "code",
        "colab": {
          "base_uri": "https://localhost:8080/",
          "height": 51
        },
        "outputId": "79ecfabe-205c-4254-cc11-40489eb0d5c7"
      },
      "source": [
        "# Download the dataset MNIST (only the training data)\n",
        "(train_images, train_labels), (_,_) = tf.keras.datasets.mnist.load_data()"
      ],
      "execution_count": 3,
      "outputs": [
        {
          "output_type": "stream",
          "text": [
            "Downloading data from https://storage.googleapis.com/tensorflow/tf-keras-datasets/mnist.npz\n",
            "11493376/11490434 [==============================] - 0s 0us/step\n"
          ],
          "name": "stdout"
        }
      ]
    },
    {
      "cell_type": "markdown",
      "metadata": {
        "id": "fZhYme3FtKPv",
        "colab_type": "text"
      },
      "source": [
        "## Prepare the data"
      ]
    },
    {
      "cell_type": "code",
      "metadata": {
        "id": "RbCOfpzxtA6j",
        "colab_type": "code",
        "colab": {}
      },
      "source": [
        "# Reshape our data and convert to size 28 by 28\n",
        "train_images = train_images.reshape(train_images.shape[0], 28, 28, 1).astype('float32')\n",
        "\n",
        "# Rescale our data to be between -1 and 1\n",
        "train_images = (train_images - 255.0 / 2.0) / (255.0 / 2.0)"
      ],
      "execution_count": 0,
      "outputs": []
    },
    {
      "cell_type": "code",
      "metadata": {
        "id": "6YzelTVsv9ID",
        "colab_type": "code",
        "colab": {}
      },
      "source": [
        "# Number of samples (60000)\n",
        "BUFFER_SIZE = len(train_images)\n",
        "\n",
        "# Batch size\n",
        "BATCH_SIZE = 256\n",
        "\n",
        "# Structure the data, mixing and packaging them into batches\n",
        "train_dataset = tf.data.Dataset.from_tensor_slices(train_images).shuffle(BUFFER_SIZE).batch(BATCH_SIZE)"
      ],
      "execution_count": 0,
      "outputs": []
    },
    {
      "cell_type": "markdown",
      "metadata": {
        "id": "1AtJ32kCw1fW",
        "colab_type": "text"
      },
      "source": [
        "## Create our Generator Model\n"
      ]
    },
    {
      "cell_type": "code",
      "metadata": {
        "id": "khtfN3uCwuRH",
        "colab_type": "code",
        "colab": {}
      },
      "source": [
        "# Create our Generator Model\n",
        "model_generator = tf.keras.Sequential()\n",
        "\n",
        "# INPUT LAYER\n",
        "# Random array of 100\n",
        "model_generator.add(Dense(7*7*256, use_bias = False, input_shape = (100, )))\n",
        "\n",
        "# Minimize the weights of the input layer\n",
        "model_generator.add(BatchNormalization())\n",
        "\n",
        "# Activation Function (applies to the input layer)\n",
        "model_generator.add(LeakyReLU())\n",
        "\n",
        "# Reshapes the data\n",
        "model_generator.add(Reshape((7, 7, 256)))\n",
        "\n",
        "# Convolution of our data\n",
        "model_generator.add(Conv2DTranspose(128,  # Neurons\n",
        "                                    (5, 5),  # Kernel\n",
        "                                    strides = (1, 1),  # Using the kernel 1 by 1\n",
        "                                    padding = 'same',\n",
        "                                    use_bias = False))\n",
        "model_generator.add(BatchNormalization())\n",
        "model_generator.add(LeakyReLU())\n",
        "\n",
        "model_generator.add(Conv2DTranspose(64,\n",
        "                                    (5, 5),\n",
        "                                    strides = (2, 2),\n",
        "                                    padding = 'same',\n",
        "                                    use_bias = False))\n",
        "model_generator.add(BatchNormalization())\n",
        "model_generator.add(LeakyReLU())\n",
        "\n",
        "# OUTPUT LAYER\n",
        "model_generator.add(Conv2DTranspose(1,\n",
        "                                    (5, 5),\n",
        "                                    strides = (2, 2),\n",
        "                                    padding = 'same',\n",
        "                                    use_bias = False,\n",
        "                                    activation = 'tanh'))  # -1 to 1"
      ],
      "execution_count": 0,
      "outputs": []
    },
    {
      "cell_type": "markdown",
      "metadata": {
        "id": "QfwYk3ue1W_X",
        "colab_type": "text"
      },
      "source": [
        "### Example of our Generator Model"
      ]
    },
    {
      "cell_type": "code",
      "metadata": {
        "id": "ldxmDF8h0_Ow",
        "colab_type": "code",
        "outputId": "29faaa89-f545-4ec2-8919-65e1be15dec1",
        "colab": {
          "base_uri": "https://localhost:8080/",
          "height": 282
        }
      },
      "source": [
        "# Random vector\n",
        "noise = tf.random.normal([1, 100])\n",
        "\n",
        "# Try out the random data (not training)\n",
        "noise_image = model_generator(noise, training = False)\n",
        "\n",
        "# Visualize (4 dimensions)\n",
        "plt.imshow(noise_image[0, :, :, 0], cmap = 'gray')"
      ],
      "execution_count": 7,
      "outputs": [
        {
          "output_type": "execute_result",
          "data": {
            "text/plain": [
              "<matplotlib.image.AxesImage at 0x7f6a101c2978>"
            ]
          },
          "metadata": {
            "tags": []
          },
          "execution_count": 7
        },
        {
          "output_type": "display_data",
          "data": {
            "image/png": "[encoded data removed]",
            "text/plain": [
              "<Figure size 432x288 with 1 Axes>"
            ]
          },
          "metadata": {
            "tags": []
          }
        }
      ]
    },
    {
      "cell_type": "markdown",
      "metadata": {
        "id": "3AQ3DLrj2Hc_",
        "colab_type": "text"
      },
      "source": [
        "## Create our Discriminator Model\n",
        "Size 28x28<br>\n",
        "0-1"
      ]
    },
    {
      "cell_type": "code",
      "metadata": {
        "id": "tC9Uuw3r2J3x",
        "colab_type": "code",
        "colab": {}
      },
      "source": [
        "# Create our Discriminator Model\n",
        "model_discriminator = tf.keras.Sequential()\n",
        "\n",
        "# INPUT LAYER\n",
        "# Convolution\n",
        "model_discriminator.add(Conv2D(64, \n",
        "                               (5, 5), \n",
        "                               strides = (2, 2), \n",
        "                               padding = 'same',\n",
        "                               input_shape = [28, 28, 1]))\n",
        "\n",
        "# Activation Function\n",
        "model_discriminator.add(LeakyReLU())\n",
        "\n",
        "# 30% dropout of neurons\n",
        "model_discriminator.add(Dropout(0.3))\n",
        "\n",
        "# Convolution\n",
        "model_discriminator.add(Conv2D(128, \n",
        "                               (5, 5), \n",
        "                               strides = (2, 2), \n",
        "                               padding = 'same'))\n",
        "model_discriminator.add(LeakyReLU())\n",
        "model_discriminator.add(Dropout(0.3))\n",
        "\n",
        "# Flatten the data\n",
        "model_discriminator.add(Flatten())\n",
        "\n",
        "# OUTPUT LAYER\n",
        "model_discriminator.add(Dense(1))"
      ],
      "execution_count": 0,
      "outputs": []
    },
    {
      "cell_type": "markdown",
      "metadata": {
        "id": "dNL2mCXV3xhq",
        "colab_type": "text"
      },
      "source": [
        "### Test our Model\n",
        "== Not trained yet =="
      ]
    },
    {
      "cell_type": "code",
      "metadata": {
        "id": "Fg409VV9314m",
        "colab_type": "code",
        "outputId": "00c7ae9f-6f39-4c33-842d-361cad9173c5",
        "colab": {
          "base_uri": "https://localhost:8080/",
          "height": 34
        }
      },
      "source": [
        "# Test the model\n",
        "decision = model_discriminator(noise_image, training = False)\n",
        "\n",
        "print(decision)"
      ],
      "execution_count": 9,
      "outputs": [
        {
          "output_type": "stream",
          "text": [
            "tf.Tensor([[0.00166217]], shape=(1, 1), dtype=float32)\n"
          ],
          "name": "stdout"
        }
      ]
    },
    {
      "cell_type": "markdown",
      "metadata": {
        "id": "rxjNkv0G5XCv",
        "colab_type": "text"
      },
      "source": [
        "## Prepare our Models"
      ]
    },
    {
      "cell_type": "code",
      "metadata": {
        "id": "PQVWUAuW4cSw",
        "colab_type": "code",
        "colab": {}
      },
      "source": [
        "# Define the function which allows us to calculate the cross entropy loss\n",
        "cross_entropy = tf.keras.losses.BinaryCrossentropy(from_logits = True)          # Probabilities"
      ],
      "execution_count": 0,
      "outputs": []
    },
    {
      "cell_type": "code",
      "metadata": {
        "id": "_PJ5r0Ji5V7g",
        "colab_type": "code",
        "colab": {}
      },
      "source": [
        "# Create our Discriminator Error function (sum of what is right being real, and what is right being false)\n",
        "# Goal: minimize the error\n",
        "def discriminator_loss(real_output, fake_output):\n",
        "  real_loss = cross_entropy(tf.ones_like(real_output), real_output)\n",
        "  fake_loss = cross_entropy(tf.zeros_like(fake_output), fake_output)\n",
        "  total_loss = real_loss + fake_loss\n",
        "  return total_loss\n",
        "\n",
        "# Create our Generator Error function (we take into account the fake classification error)\n",
        "# Goal: maximize the error\n",
        "def generator_loss(fake_output):\n",
        "  return cross_entropy(tf.ones_like(fake_output), fake_output)"
      ],
      "execution_count": 0,
      "outputs": []
    },
    {
      "cell_type": "markdown",
      "metadata": {
        "id": "EDmYN5Gm654A",
        "colab_type": "text"
      },
      "source": [
        "### Model Optimizers"
      ]
    },
    {
      "cell_type": "code",
      "metadata": {
        "id": "08vPo55x6n0H",
        "colab_type": "code",
        "colab": {}
      },
      "source": [
        "generator_optimizer = tf.keras.optimizers.Adam(lr = 0.0001)                     # Learning rate\n",
        "\n",
        "discriminator_optimizer = tf.keras.optimizers.Adam(lr = 0.0001)"
      ],
      "execution_count": 0,
      "outputs": []
    },
    {
      "cell_type": "markdown",
      "metadata": {
        "id": "ZcpzxouD7Hdx",
        "colab_type": "text"
      },
      "source": [
        "### Model Checkpoints"
      ]
    },
    {
      "cell_type": "code",
      "metadata": {
        "id": "WctwxhWI7CIp",
        "colab_type": "code",
        "colab": {}
      },
      "source": [
        "# Checkpoints during our Training to save our progress\n",
        "checkpoint_dir = './training_checkpoints'\n",
        "checkpoint_prefix = os.path.join(checkpoint_dir, 'ckpt')\n",
        "\n",
        "checkpoint = tf.train.Checkpoint(generator_optimizer = generator_optimizer,\n",
        "                                 discriminator_optimizer = discriminator_optimizer,\n",
        "                                 generator = model_generator,\n",
        "                                 discriminator = model_discriminator)"
      ],
      "execution_count": 0,
      "outputs": []
    },
    {
      "cell_type": "markdown",
      "metadata": {
        "id": "RULZSdKf8eZc",
        "colab_type": "text"
      },
      "source": [
        "### Model Settings"
      ]
    },
    {
      "cell_type": "code",
      "metadata": {
        "id": "_xz1T_9a8czY",
        "colab_type": "code",
        "colab": {}
      },
      "source": [
        "epochs = 50\n",
        "\n",
        "noise_dimension = 100\n",
        "\n",
        "# Images we create for each iteration\n",
        "num_examples_generated = 16\n",
        "\n",
        "seed = tf.random.normal([num_examples_generated, noise_dimension])"
      ],
      "execution_count": 0,
      "outputs": []
    },
    {
      "cell_type": "markdown",
      "metadata": {
        "id": "dSouJ1jdA_CE",
        "colab_type": "text"
      },
      "source": [
        "### Compile Function"
      ]
    },
    {
      "cell_type": "code",
      "metadata": {
        "id": "AWiHoZRM9HBT",
        "colab_type": "code",
        "colab": {}
      },
      "source": [
        "# Compile the following function\n",
        "@tf.function\n",
        "\n",
        "def train_step(image):\n",
        "  noise = tf.random.normal([BATCH_SIZE, noise_dimension])\n",
        "\n",
        "  with tf.GradientTape() as gen_tape, tf.GradientTape() as disc_tape:\n",
        "    # Generate fake images\n",
        "    images_generated = model_generator(noise, training = True)\n",
        "\n",
        "    # Compare real with fake images\n",
        "    real_output = model_discriminator(image, training = True)\n",
        "    fake_output = model_discriminator(images_generated, training = True)\n",
        "\n",
        "    # Calculate the Errors\n",
        "    loss_generator = generator_loss(fake_output)\n",
        "    loss_discriminator = discriminator_loss(real_output, fake_output)\n",
        "\n",
        "    # Combine, calculate new Gradients and Weights (taking into account the loss)\n",
        "    gradient_generator = gen_tape.gradient(loss_generator, model_generator.trainable_variables)\n",
        "    gradient_discriminator = disc_tape.gradient(loss_discriminator, model_discriminator.trainable_variables)\n",
        "\n",
        "    # Apply the new Gradients on all variables\n",
        "    generator_optimizer.apply_gradients(zip(gradient_generator, model_generator.trainable_variables))\n",
        "    discriminator_optimizer.apply_gradients(zip(gradient_discriminator, model_discriminator.trainable_variables))"
      ],
      "execution_count": 0,
      "outputs": []
    },
    {
      "cell_type": "markdown",
      "metadata": {
        "id": "MRT-a9wiA7oy",
        "colab_type": "text"
      },
      "source": [
        "### Train Function"
      ]
    },
    {
      "cell_type": "code",
      "metadata": {
        "id": "0jv8vVGXs6d5",
        "colab_type": "code",
        "colab": {}
      },
      "source": [
        "# Evaluate our results during our epochs\n",
        "def train(dataset, epochs):\n",
        "  for epoch in range(epochs):\n",
        "\n",
        "    # Timestamp\n",
        "    start = time.time()\n",
        "\n",
        "    # 256 images\n",
        "    for image_batch in dataset:\n",
        "      train_step(image_batch)\n",
        "\n",
        "    # Display the images\n",
        "    display.clear_output(wait = True)\n",
        "\n",
        "    # Save new images\n",
        "    generate_and_save_images(model_generator, epoch + 1, seed)\n",
        "\n",
        "    # Checkpoints\n",
        "    if (epoch + 1) % 15 == 0:\n",
        "      checkpoint.save(file_prefix = checkpoint_prefix)\n",
        "    print('Time to calculate the epoch', epoch + 1, 'was: ', time.time() - start, 'seconds')\n",
        "  display.clear_output(wait = True)\n",
        "  generate_and_save_images(model_generator, epochs, seed)\n",
        "\n",
        "# Save and display function of our newly generated images\n",
        "def generate_and_save_images(model, epoch, test_input):\n",
        "  prediction = model(test_input, training = False)\n",
        "  fig = plt.figure(figsize = (4, 4))\n",
        "\n",
        "  for i in range(prediction.shape[0]):\n",
        "    plt.subplot(4, 4, i + 1)\n",
        "    plt.imshow(prediction[i, :, :, 0] * (255.0 / 2.0) + (255.0 / 2.0), cmap = 'gray')\n",
        "    plt.axis('off')\n",
        "    plt.savefig('image_epoch_{:4d}.png'.format(epoch))\n",
        "  plt.show()"
      ],
      "execution_count": 0,
      "outputs": []
    },
    {
      "cell_type": "markdown",
      "metadata": {
        "id": "xD9I8azbEwHu",
        "colab_type": "text"
      },
      "source": [
        "## Train our Model"
      ]
    },
    {
      "cell_type": "code",
      "metadata": {
        "id": "g-acp3-NEoN8",
        "colab_type": "code",
        "outputId": "4f83dbc0-1407-4b0d-8907-adb750f6c6a2",
        "colab": {
          "base_uri": "https://localhost:8080/",
          "height": 248
        }
      },
      "source": [
        "# Train our Generative Adversarial Network (GAN)\n",
        "train(train_dataset, epochs)"
      ],
      "execution_count": 17,
      "outputs": [
        {
          "output_type": "display_data",
          "data": {
            "image/png": "[encoded data removed]",
            "text/plain": [
              "<Figure size 288x288 with 16 Axes>"
            ]
          },
          "metadata": {
            "tags": []
          }
        }
      ]
    },
    {
      "cell_type": "code",
      "metadata": {
        "id": "JjoA-dARFyuU",
        "colab_type": "code",
        "colab": {}
      },
      "source": [
        ""
      ],
      "execution_count": 0,
      "outputs": []
    }
  ]
}